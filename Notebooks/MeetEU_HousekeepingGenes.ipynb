{
 "cells": [
  {
   "cell_type": "code",
   "execution_count": 2,
   "metadata": {
    "collapsed": true
   },
   "outputs": [],
   "source": [
    "import pandas as pd\n",
    "import numpy as np"
   ]
  },
  {
   "cell_type": "code",
   "execution_count": 7,
   "metadata": {
    "pycharm": {
     "name": "#%%\n"
    }
   },
   "outputs": [
    {
     "data": {
      "text/html": [
       "<div>\n",
       "<style scoped>\n",
       "    .dataframe tbody tr th:only-of-type {\n",
       "        vertical-align: middle;\n",
       "    }\n",
       "\n",
       "    .dataframe tbody tr th {\n",
       "        vertical-align: top;\n",
       "    }\n",
       "\n",
       "    .dataframe thead th {\n",
       "        text-align: right;\n",
       "    }\n",
       "</style>\n",
       "<table border=\"1\" class=\"dataframe\">\n",
       "  <thead>\n",
       "    <tr style=\"text-align: right;\">\n",
       "      <th></th>\n",
       "      <th>Ensembl</th>\n",
       "      <th>Gene.name</th>\n",
       "      <th>Refseq</th>\n",
       "      <th>CCDS.ID</th>\n",
       "    </tr>\n",
       "  </thead>\n",
       "  <tbody>\n",
       "    <tr>\n",
       "      <th>0</th>\n",
       "      <td>ENST00000000233</td>\n",
       "      <td>ARF5</td>\n",
       "      <td>NM_001662</td>\n",
       "      <td>CCDS34745</td>\n",
       "    </tr>\n",
       "    <tr>\n",
       "      <th>1</th>\n",
       "      <td>ENST00000000412</td>\n",
       "      <td>M6PR</td>\n",
       "      <td>NM_002355</td>\n",
       "      <td>CCDS8598</td>\n",
       "    </tr>\n",
       "    <tr>\n",
       "      <th>2</th>\n",
       "      <td>ENST00000005257</td>\n",
       "      <td>RALA</td>\n",
       "      <td>NM_005402</td>\n",
       "      <td>CCDS5460</td>\n",
       "    </tr>\n",
       "    <tr>\n",
       "      <th>3</th>\n",
       "      <td>ENST00000005340</td>\n",
       "      <td>DVL2</td>\n",
       "      <td>NM_004422</td>\n",
       "      <td>CCDS11091</td>\n",
       "    </tr>\n",
       "    <tr>\n",
       "      <th>4</th>\n",
       "      <td>ENST00000006777</td>\n",
       "      <td>RHBDD2</td>\n",
       "      <td>NM_001346188; NM_001346189; NM_001040456</td>\n",
       "      <td>CCDS43602</td>\n",
       "    </tr>\n",
       "    <tr>\n",
       "      <th>...</th>\n",
       "      <td>...</td>\n",
       "      <td>...</td>\n",
       "      <td>...</td>\n",
       "      <td>...</td>\n",
       "    </tr>\n",
       "    <tr>\n",
       "      <th>2828</th>\n",
       "      <td>ENST00000607266</td>\n",
       "      <td>CUTA</td>\n",
       "      <td>NaN</td>\n",
       "      <td>CCDS4779</td>\n",
       "    </tr>\n",
       "    <tr>\n",
       "      <th>2829</th>\n",
       "      <td>ENST00000608424</td>\n",
       "      <td>WDR6</td>\n",
       "      <td>NM_018031</td>\n",
       "      <td>NaN</td>\n",
       "    </tr>\n",
       "    <tr>\n",
       "      <th>2830</th>\n",
       "      <td>ENST00000608443</td>\n",
       "      <td>FKBP8</td>\n",
       "      <td>NM_012181</td>\n",
       "      <td>CCDS32961</td>\n",
       "    </tr>\n",
       "    <tr>\n",
       "      <th>2831</th>\n",
       "      <td>ENST00000608872</td>\n",
       "      <td>FBXW2</td>\n",
       "      <td>NM_012164</td>\n",
       "      <td>CCDS43872</td>\n",
       "    </tr>\n",
       "    <tr>\n",
       "      <th>2832</th>\n",
       "      <td>ENST00000609024</td>\n",
       "      <td>CHMP4A</td>\n",
       "      <td>NM_014169</td>\n",
       "      <td>CCDS9619</td>\n",
       "    </tr>\n",
       "  </tbody>\n",
       "</table>\n",
       "<p>2833 rows × 4 columns</p>\n",
       "</div>"
      ],
      "text/plain": [
       "              Ensembl Gene.name                                    Refseq  \\\n",
       "0     ENST00000000233      ARF5                                 NM_001662   \n",
       "1     ENST00000000412      M6PR                                 NM_002355   \n",
       "2     ENST00000005257      RALA                                 NM_005402   \n",
       "3     ENST00000005340      DVL2                                 NM_004422   \n",
       "4     ENST00000006777    RHBDD2  NM_001346188; NM_001346189; NM_001040456   \n",
       "...               ...       ...                                       ...   \n",
       "2828  ENST00000607266      CUTA                                       NaN   \n",
       "2829  ENST00000608424      WDR6                                 NM_018031   \n",
       "2830  ENST00000608443     FKBP8                                 NM_012181   \n",
       "2831  ENST00000608872     FBXW2                                 NM_012164   \n",
       "2832  ENST00000609024    CHMP4A                                 NM_014169   \n",
       "\n",
       "        CCDS.ID  \n",
       "0     CCDS34745  \n",
       "1      CCDS8598  \n",
       "2      CCDS5460  \n",
       "3     CCDS11091  \n",
       "4     CCDS43602  \n",
       "...         ...  \n",
       "2828   CCDS4779  \n",
       "2829        NaN  \n",
       "2830  CCDS32961  \n",
       "2831  CCDS43872  \n",
       "2832   CCDS9619  \n",
       "\n",
       "[2833 rows x 4 columns]"
      ]
     },
     "execution_count": 7,
     "metadata": {},
     "output_type": "execute_result"
    }
   ],
   "source": [
    "hk_genes = pd.read_csv(\"./ressources/Housekeeping_GenesHuman.csv\", delimiter=\";\")\n",
    "hk_genes"
   ]
  },
  {
   "cell_type": "code",
   "execution_count": 10,
   "metadata": {},
   "outputs": [
    {
     "name": "stderr",
     "output_type": "stream",
     "text": [
      "C:\\Users\\lucas\\anaconda3\\lib\\site-packages\\IPython\\core\\interactiveshell.py:3165: DtypeWarning: Columns (0) have mixed types.Specify dtype option on import or set low_memory=False.\n",
      "  has_raised = await self.run_ast_nodes(code_ast.body, cell_name,\n"
     ]
    },
    {
     "data": {
      "text/html": [
       "<div>\n",
       "<style scoped>\n",
       "    .dataframe tbody tr th:only-of-type {\n",
       "        vertical-align: middle;\n",
       "    }\n",
       "\n",
       "    .dataframe tbody tr th {\n",
       "        vertical-align: top;\n",
       "    }\n",
       "\n",
       "    .dataframe thead th {\n",
       "        text-align: right;\n",
       "    }\n",
       "</style>\n",
       "<table border=\"1\" class=\"dataframe\">\n",
       "  <thead>\n",
       "    <tr style=\"text-align: right;\">\n",
       "      <th></th>\n",
       "      <th>0</th>\n",
       "      <th>1</th>\n",
       "      <th>2</th>\n",
       "      <th>3</th>\n",
       "      <th>4</th>\n",
       "      <th>5</th>\n",
       "      <th>6</th>\n",
       "      <th>7</th>\n",
       "      <th>8</th>\n",
       "    </tr>\n",
       "  </thead>\n",
       "  <tbody>\n",
       "    <tr>\n",
       "      <th>0</th>\n",
       "      <td>1</td>\n",
       "      <td>ensembl_havana</td>\n",
       "      <td>gene</td>\n",
       "      <td>685679</td>\n",
       "      <td>686673</td>\n",
       "      <td>.</td>\n",
       "      <td>-</td>\n",
       "      <td>.</td>\n",
       "      <td>gene_id \"ENSG00000284662\"; gene_version \"1\"; g...</td>\n",
       "    </tr>\n",
       "    <tr>\n",
       "      <th>1</th>\n",
       "      <td>1</td>\n",
       "      <td>ensembl_havana</td>\n",
       "      <td>transcript</td>\n",
       "      <td>685679</td>\n",
       "      <td>686673</td>\n",
       "      <td>.</td>\n",
       "      <td>-</td>\n",
       "      <td>.</td>\n",
       "      <td>gene_id \"ENSG00000284662\"; gene_version \"1\"; t...</td>\n",
       "    </tr>\n",
       "    <tr>\n",
       "      <th>2</th>\n",
       "      <td>1</td>\n",
       "      <td>ensembl_havana</td>\n",
       "      <td>exon</td>\n",
       "      <td>685679</td>\n",
       "      <td>686673</td>\n",
       "      <td>.</td>\n",
       "      <td>-</td>\n",
       "      <td>.</td>\n",
       "      <td>gene_id \"ENSG00000284662\"; gene_version \"1\"; t...</td>\n",
       "    </tr>\n",
       "    <tr>\n",
       "      <th>3</th>\n",
       "      <td>1</td>\n",
       "      <td>ensembl_havana</td>\n",
       "      <td>CDS</td>\n",
       "      <td>685719</td>\n",
       "      <td>686654</td>\n",
       "      <td>.</td>\n",
       "      <td>-</td>\n",
       "      <td>0</td>\n",
       "      <td>gene_id \"ENSG00000284662\"; gene_version \"1\"; t...</td>\n",
       "    </tr>\n",
       "    <tr>\n",
       "      <th>4</th>\n",
       "      <td>1</td>\n",
       "      <td>ensembl_havana</td>\n",
       "      <td>start_codon</td>\n",
       "      <td>686652</td>\n",
       "      <td>686654</td>\n",
       "      <td>.</td>\n",
       "      <td>-</td>\n",
       "      <td>0</td>\n",
       "      <td>gene_id \"ENSG00000284662\"; gene_version \"1\"; t...</td>\n",
       "    </tr>\n",
       "    <tr>\n",
       "      <th>...</th>\n",
       "      <td>...</td>\n",
       "      <td>...</td>\n",
       "      <td>...</td>\n",
       "      <td>...</td>\n",
       "      <td>...</td>\n",
       "      <td>...</td>\n",
       "      <td>...</td>\n",
       "      <td>...</td>\n",
       "      <td>...</td>\n",
       "    </tr>\n",
       "    <tr>\n",
       "      <th>3146127</th>\n",
       "      <td>KI270713.1</td>\n",
       "      <td>ensembl</td>\n",
       "      <td>five_prime_utr</td>\n",
       "      <td>32373</td>\n",
       "      <td>32528</td>\n",
       "      <td>.</td>\n",
       "      <td>-</td>\n",
       "      <td>.</td>\n",
       "      <td>gene_id \"ENSG00000277475\"; gene_version \"1\"; t...</td>\n",
       "    </tr>\n",
       "    <tr>\n",
       "      <th>3146128</th>\n",
       "      <td>KI270713.1</td>\n",
       "      <td>ensembl</td>\n",
       "      <td>three_prime_utr</td>\n",
       "      <td>31698</td>\n",
       "      <td>31841</td>\n",
       "      <td>.</td>\n",
       "      <td>-</td>\n",
       "      <td>.</td>\n",
       "      <td>gene_id \"ENSG00000277475\"; gene_version \"1\"; t...</td>\n",
       "    </tr>\n",
       "    <tr>\n",
       "      <th>3146129</th>\n",
       "      <td>KI270713.1</td>\n",
       "      <td>ensembl</td>\n",
       "      <td>gene</td>\n",
       "      <td>21861</td>\n",
       "      <td>22024</td>\n",
       "      <td>.</td>\n",
       "      <td>-</td>\n",
       "      <td>.</td>\n",
       "      <td>gene_id \"ENSG00000275405\"; gene_version \"1\"; g...</td>\n",
       "    </tr>\n",
       "    <tr>\n",
       "      <th>3146130</th>\n",
       "      <td>KI270713.1</td>\n",
       "      <td>ensembl</td>\n",
       "      <td>transcript</td>\n",
       "      <td>21861</td>\n",
       "      <td>22024</td>\n",
       "      <td>.</td>\n",
       "      <td>-</td>\n",
       "      <td>.</td>\n",
       "      <td>gene_id \"ENSG00000275405\"; gene_version \"1\"; t...</td>\n",
       "    </tr>\n",
       "    <tr>\n",
       "      <th>3146131</th>\n",
       "      <td>KI270713.1</td>\n",
       "      <td>ensembl</td>\n",
       "      <td>exon</td>\n",
       "      <td>21861</td>\n",
       "      <td>22024</td>\n",
       "      <td>.</td>\n",
       "      <td>-</td>\n",
       "      <td>.</td>\n",
       "      <td>gene_id \"ENSG00000275405\"; gene_version \"1\"; t...</td>\n",
       "    </tr>\n",
       "  </tbody>\n",
       "</table>\n",
       "<p>3146132 rows × 9 columns</p>\n",
       "</div>"
      ],
      "text/plain": [
       "                  0               1                2       3       4  5  6  7  \\\n",
       "0                 1  ensembl_havana             gene  685679  686673  .  -  .   \n",
       "1                 1  ensembl_havana       transcript  685679  686673  .  -  .   \n",
       "2                 1  ensembl_havana             exon  685679  686673  .  -  .   \n",
       "3                 1  ensembl_havana              CDS  685719  686654  .  -  0   \n",
       "4                 1  ensembl_havana      start_codon  686652  686654  .  -  0   \n",
       "...             ...             ...              ...     ...     ... .. .. ..   \n",
       "3146127  KI270713.1         ensembl   five_prime_utr   32373   32528  .  -  .   \n",
       "3146128  KI270713.1         ensembl  three_prime_utr   31698   31841  .  -  .   \n",
       "3146129  KI270713.1         ensembl             gene   21861   22024  .  -  .   \n",
       "3146130  KI270713.1         ensembl       transcript   21861   22024  .  -  .   \n",
       "3146131  KI270713.1         ensembl             exon   21861   22024  .  -  .   \n",
       "\n",
       "                                                         8  \n",
       "0        gene_id \"ENSG00000284662\"; gene_version \"1\"; g...  \n",
       "1        gene_id \"ENSG00000284662\"; gene_version \"1\"; t...  \n",
       "2        gene_id \"ENSG00000284662\"; gene_version \"1\"; t...  \n",
       "3        gene_id \"ENSG00000284662\"; gene_version \"1\"; t...  \n",
       "4        gene_id \"ENSG00000284662\"; gene_version \"1\"; t...  \n",
       "...                                                    ...  \n",
       "3146127  gene_id \"ENSG00000277475\"; gene_version \"1\"; t...  \n",
       "3146128  gene_id \"ENSG00000277475\"; gene_version \"1\"; t...  \n",
       "3146129  gene_id \"ENSG00000275405\"; gene_version \"1\"; g...  \n",
       "3146130  gene_id \"ENSG00000275405\"; gene_version \"1\"; t...  \n",
       "3146131  gene_id \"ENSG00000275405\"; gene_version \"1\"; t...  \n",
       "\n",
       "[3146132 rows x 9 columns]"
      ]
     },
     "execution_count": 10,
     "metadata": {},
     "output_type": "execute_result"
    }
   ],
   "source": [
    "ensembl_gtf = pd.read_csv(\"C:/Users/lucas/Desktop/Homo_sapiens.GRCh38.104.gtf\", skiprows=[0, 1, 2, 3, 4], delimiter=\"\\t\", header=None)\n",
    "ensembl_gtf"
   ]
  },
  {
   "cell_type": "code",
   "execution_count": 17,
   "metadata": {},
   "outputs": [
    {
     "data": {
      "text/plain": [
       "['gene_id \"ENSG00000185674\"',\n",
       " 'gene_version \"9\"',\n",
       " 'transcript_id \"ENST00000423800\"',\n",
       " 'transcript_version \"5\"',\n",
       " 'exon_number \"2\"',\n",
       " 'gene_name \"LYG2\"',\n",
       " 'gene_source \"ensembl_havana\"',\n",
       " 'gene_biotype \"protein_coding\"',\n",
       " 'transcript_name \"LYG2-205\"',\n",
       " 'transcript_source \"havana\"',\n",
       " 'transcript_biotype \"protein_coding\"',\n",
       " 'exon_id \"ENSE00001311068\"',\n",
       " 'exon_version \"1\"',\n",
       " 'tag \"basic\"',\n",
       " 'transcript_support_level \"1\";']"
      ]
     },
     "execution_count": 17,
     "metadata": {},
     "output_type": "execute_result"
    }
   ],
   "source": [
    "ensembl_gtf.loc[433262, 8].split(\"; \")"
   ]
  },
  {
   "cell_type": "code",
   "execution_count": 18,
   "metadata": {},
   "outputs": [
    {
     "ename": "KeyboardInterrupt",
     "evalue": "",
     "output_type": "error",
     "traceback": [
      "\u001B[1;31m---------------------------------------------------------------------------\u001B[0m",
      "\u001B[1;31mKeyboardInterrupt\u001B[0m                         Traceback (most recent call last)",
      "    \u001B[1;31m[... skipping hidden 1 frame]\u001B[0m\n",
      "\u001B[1;32m<ipython-input-18-d23881394ae8>\u001B[0m in \u001B[0;36m<module>\u001B[1;34m\u001B[0m\n\u001B[0;32m      1\u001B[0m \u001B[0mfoo\u001B[0m \u001B[1;33m=\u001B[0m \u001B[1;32mlambda\u001B[0m \u001B[0mx\u001B[0m\u001B[1;33m:\u001B[0m \u001B[0mpd\u001B[0m\u001B[1;33m.\u001B[0m\u001B[0mSeries\u001B[0m\u001B[1;33m(\u001B[0m\u001B[1;33m[\u001B[0m\u001B[0mi\u001B[0m \u001B[1;32mfor\u001B[0m \u001B[0mi\u001B[0m \u001B[1;32min\u001B[0m \u001B[0mx\u001B[0m\u001B[1;33m.\u001B[0m\u001B[0msplit\u001B[0m\u001B[1;33m(\u001B[0m\u001B[1;34m'; '\u001B[0m\u001B[1;33m)\u001B[0m\u001B[1;33m]\u001B[0m\u001B[1;33m)\u001B[0m\u001B[1;33m\u001B[0m\u001B[1;33m\u001B[0m\u001B[0m\n\u001B[1;32m----> 2\u001B[1;33m \u001B[0mrev\u001B[0m \u001B[1;33m=\u001B[0m \u001B[0mensembl_gtf\u001B[0m\u001B[1;33m[\u001B[0m\u001B[1;36m8\u001B[0m\u001B[1;33m]\u001B[0m\u001B[1;33m.\u001B[0m\u001B[0mapply\u001B[0m\u001B[1;33m(\u001B[0m\u001B[0mfoo\u001B[0m\u001B[1;33m)\u001B[0m\u001B[1;33m\u001B[0m\u001B[1;33m\u001B[0m\u001B[0m\n\u001B[0m\u001B[0;32m      3\u001B[0m \u001B[0mrev\u001B[0m\u001B[1;33m\u001B[0m\u001B[1;33m\u001B[0m\u001B[0m\n",
      "\u001B[1;32m~\\anaconda3\\lib\\site-packages\\pandas\\core\\series.py\u001B[0m in \u001B[0;36mapply\u001B[1;34m(self, func, convert_dtype, args, **kwds)\u001B[0m\n\u001B[0;32m   4137\u001B[0m                 \u001B[0mvalues\u001B[0m \u001B[1;33m=\u001B[0m \u001B[0mself\u001B[0m\u001B[1;33m.\u001B[0m\u001B[0mastype\u001B[0m\u001B[1;33m(\u001B[0m\u001B[0mobject\u001B[0m\u001B[1;33m)\u001B[0m\u001B[1;33m.\u001B[0m\u001B[0m_values\u001B[0m\u001B[1;33m\u001B[0m\u001B[1;33m\u001B[0m\u001B[0m\n\u001B[1;32m-> 4138\u001B[1;33m                 \u001B[0mmapped\u001B[0m \u001B[1;33m=\u001B[0m \u001B[0mlib\u001B[0m\u001B[1;33m.\u001B[0m\u001B[0mmap_infer\u001B[0m\u001B[1;33m(\u001B[0m\u001B[0mvalues\u001B[0m\u001B[1;33m,\u001B[0m \u001B[0mf\u001B[0m\u001B[1;33m,\u001B[0m \u001B[0mconvert\u001B[0m\u001B[1;33m=\u001B[0m\u001B[0mconvert_dtype\u001B[0m\u001B[1;33m)\u001B[0m\u001B[1;33m\u001B[0m\u001B[1;33m\u001B[0m\u001B[0m\n\u001B[0m\u001B[0;32m   4139\u001B[0m \u001B[1;33m\u001B[0m\u001B[0m\n",
      "\u001B[1;32mpandas\\_libs\\lib.pyx\u001B[0m in \u001B[0;36mpandas._libs.lib.map_infer\u001B[1;34m()\u001B[0m\n",
      "\u001B[1;32m<ipython-input-18-d23881394ae8>\u001B[0m in \u001B[0;36m<lambda>\u001B[1;34m(x)\u001B[0m\n\u001B[1;32m----> 1\u001B[1;33m \u001B[0mfoo\u001B[0m \u001B[1;33m=\u001B[0m \u001B[1;32mlambda\u001B[0m \u001B[0mx\u001B[0m\u001B[1;33m:\u001B[0m \u001B[0mpd\u001B[0m\u001B[1;33m.\u001B[0m\u001B[0mSeries\u001B[0m\u001B[1;33m(\u001B[0m\u001B[1;33m[\u001B[0m\u001B[0mi\u001B[0m \u001B[1;32mfor\u001B[0m \u001B[0mi\u001B[0m \u001B[1;32min\u001B[0m \u001B[0mx\u001B[0m\u001B[1;33m.\u001B[0m\u001B[0msplit\u001B[0m\u001B[1;33m(\u001B[0m\u001B[1;34m'; '\u001B[0m\u001B[1;33m)\u001B[0m\u001B[1;33m]\u001B[0m\u001B[1;33m)\u001B[0m\u001B[1;33m\u001B[0m\u001B[1;33m\u001B[0m\u001B[0m\n\u001B[0m\u001B[0;32m      2\u001B[0m \u001B[0mrev\u001B[0m \u001B[1;33m=\u001B[0m \u001B[0mensembl_gtf\u001B[0m\u001B[1;33m[\u001B[0m\u001B[1;36m8\u001B[0m\u001B[1;33m]\u001B[0m\u001B[1;33m.\u001B[0m\u001B[0mapply\u001B[0m\u001B[1;33m(\u001B[0m\u001B[0mfoo\u001B[0m\u001B[1;33m)\u001B[0m\u001B[1;33m\u001B[0m\u001B[1;33m\u001B[0m\u001B[0m\n\u001B[0;32m      3\u001B[0m \u001B[0mrev\u001B[0m\u001B[1;33m\u001B[0m\u001B[1;33m\u001B[0m\u001B[0m\n",
      "\u001B[1;31mKeyboardInterrupt\u001B[0m: ",
      "\nDuring handling of the above exception, another exception occurred:\n",
      "\u001B[1;31mKeyboardInterrupt\u001B[0m                         Traceback (most recent call last)",
      "\u001B[1;32m~\\anaconda3\\lib\\site-packages\\IPython\\core\\interactiveshell.py\u001B[0m in \u001B[0;36mrun_code\u001B[1;34m(self, code_obj, result, async_)\u001B[0m\n\u001B[0;32m   3444\u001B[0m             \u001B[0mself\u001B[0m\u001B[1;33m.\u001B[0m\u001B[0mshowtraceback\u001B[0m\u001B[1;33m(\u001B[0m\u001B[0mexception_only\u001B[0m\u001B[1;33m=\u001B[0m\u001B[1;32mTrue\u001B[0m\u001B[1;33m)\u001B[0m\u001B[1;33m\u001B[0m\u001B[1;33m\u001B[0m\u001B[0m\n\u001B[0;32m   3445\u001B[0m             \u001B[0mwarn\u001B[0m\u001B[1;33m(\u001B[0m\u001B[1;34m\"To exit: use 'exit', 'quit', or Ctrl-D.\"\u001B[0m\u001B[1;33m,\u001B[0m \u001B[0mstacklevel\u001B[0m\u001B[1;33m=\u001B[0m\u001B[1;36m1\u001B[0m\u001B[1;33m)\u001B[0m\u001B[1;33m\u001B[0m\u001B[1;33m\u001B[0m\u001B[0m\n\u001B[1;32m-> 3446\u001B[1;33m         \u001B[1;32mexcept\u001B[0m \u001B[0mself\u001B[0m\u001B[1;33m.\u001B[0m\u001B[0mcustom_exceptions\u001B[0m\u001B[1;33m:\u001B[0m\u001B[1;33m\u001B[0m\u001B[1;33m\u001B[0m\u001B[0m\n\u001B[0m\u001B[0;32m   3447\u001B[0m             \u001B[0metype\u001B[0m\u001B[1;33m,\u001B[0m \u001B[0mvalue\u001B[0m\u001B[1;33m,\u001B[0m \u001B[0mtb\u001B[0m \u001B[1;33m=\u001B[0m \u001B[0msys\u001B[0m\u001B[1;33m.\u001B[0m\u001B[0mexc_info\u001B[0m\u001B[1;33m(\u001B[0m\u001B[1;33m)\u001B[0m\u001B[1;33m\u001B[0m\u001B[1;33m\u001B[0m\u001B[0m\n\u001B[0;32m   3448\u001B[0m             \u001B[1;32mif\u001B[0m \u001B[0mresult\u001B[0m \u001B[1;32mis\u001B[0m \u001B[1;32mnot\u001B[0m \u001B[1;32mNone\u001B[0m\u001B[1;33m:\u001B[0m\u001B[1;33m\u001B[0m\u001B[1;33m\u001B[0m\u001B[0m\n",
      "\u001B[1;31mKeyboardInterrupt\u001B[0m: "
     ]
    }
   ],
   "source": [
    "foo = lambda x: pd.Series([i for i in x.split('; ')])\n",
    "rev = ensembl_gtf[8].apply(foo)\n",
    "rev"
   ]
  },
  {
   "cell_type": "code",
   "execution_count": null,
   "metadata": {},
   "outputs": [],
   "source": []
  },
  {
   "cell_type": "code",
   "execution_count": null,
   "metadata": {},
   "outputs": [],
   "source": []
  },
  {
   "cell_type": "code",
   "execution_count": null,
   "metadata": {},
   "outputs": [],
   "source": [
    "#IMPLEMENT ENSG/ GENE ID TRANSLATION"
   ]
  },
  {
   "cell_type": "code",
   "execution_count": null,
   "metadata": {},
   "outputs": [],
   "source": []
  },
  {
   "cell_type": "code",
   "execution_count": null,
   "metadata": {},
   "outputs": [],
   "source": [
    "import gffutils\n",
    "fn = gffutils.example_filename('intro_docs_example.gff')\n",
    "print(open(fn).read())"
   ]
  },
  {
   "cell_type": "code",
   "execution_count": null,
   "metadata": {},
   "outputs": [],
   "source": []
  },
  {
   "cell_type": "code",
   "execution_count": null,
   "metadata": {},
   "outputs": [],
   "source": [
    "db = gffutils.create_db(fn, dbfn='test.db', force=True, keep_order=True, merge_strategy='merge', sort_attribute_values=True)"
   ]
  },
  {
   "cell_type": "code",
   "execution_count": null,
   "metadata": {},
   "outputs": [],
   "source": [
    "db = gffutils.FeatureDB('test.db', keep_order=True)"
   ]
  },
  {
   "cell_type": "code",
   "execution_count": null,
   "metadata": {},
   "outputs": [],
   "source": [
    "gene = db['FBgn0031208']\n",
    "gene"
   ]
  },
  {
   "cell_type": "code",
   "execution_count": null,
   "metadata": {},
   "outputs": [],
   "source": [
    "gene.start\n",
    "gene.end"
   ]
  },
  {
   "cell_type": "code",
   "execution_count": null,
   "metadata": {},
   "outputs": [],
   "source": [
    "gene.attributes['Name']"
   ]
  },
  {
   "cell_type": "code",
   "execution_count": null,
   "metadata": {},
   "outputs": [],
   "source": [
    "gene['Name']"
   ]
  },
  {
   "cell_type": "code",
   "execution_count": null,
   "metadata": {},
   "outputs": [],
   "source": [
    "#et all the mRNAs for a gene:\n",
    "\n",
    "for i in db.children(gene, featuretype='mRNA', order_by='start'): #featuretype=\"exon\"\n",
    "    print(i) "
   ]
  },
  {
   "cell_type": "code",
   "execution_count": null,
   "metadata": {},
   "outputs": [],
   "source": []
  },
  {
   "cell_type": "code",
   "execution_count": null,
   "metadata": {},
   "outputs": [],
   "source": []
  }
 ],
 "metadata": {
  "kernelspec": {
   "display_name": "Python 3",
   "language": "python",
   "name": "python3"
  },
  "language_info": {
   "codemirror_mode": {
    "name": "ipython",
    "version": 3
   },
   "file_extension": ".py",
   "mimetype": "text/x-python",
   "name": "python",
   "nbconvert_exporter": "python",
   "pygments_lexer": "ipython3",
   "version": "3.8.8"
  }
 },
 "nbformat": 4,
 "nbformat_minor": 1
}