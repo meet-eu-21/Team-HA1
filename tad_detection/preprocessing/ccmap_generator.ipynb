{
 "cells": [
  {
   "cell_type": "code",
   "execution_count": 1,
   "metadata": {},
   "outputs": [],
   "source": [
    "import pandas as pd\n",
    "import numpy as np\n",
    "import networkx as nx\n",
    "import matplotlib.pyplot as plt\n",
    "from pathlib import Path\n",
    "from gcMapExplorer import lib as gmlib\n",
    "import gzip\n",
    "from os import path\n",
    "import os\n",
    "\n",
    "import warnings\n",
    "warnings.filterwarnings(\"ignore\") \n",
    "import logging, sys\n",
    "logging.disable(sys.maxsize)"
   ]
  },
  {
   "cell_type": "code",
   "execution_count": 2,
   "metadata": {},
   "outputs": [],
   "source": [
    "data_prefix = '/data/analysis/ag-reils/ag-reils-shared/Hi-C/'"
   ]
  },
  {
   "cell_type": "code",
   "execution_count": 3,
   "metadata": {},
   "outputs": [],
   "source": [
    "chromosome_list = [ 1,  2,  3,  4,  5,  6,  7,  8,  9, 10, 11, 12, 13, 14, 15, 16, 17, 18, 19, 20, 21, 22, 'X']"
   ]
  },
  {
   "cell_type": "code",
   "execution_count": null,
   "metadata": {},
   "outputs": [],
   "source": [
    "for name in chromosome_list:\n",
    "    os.mkdir(f'/home/kittnerp/meeteu/cmap_files/25kb/IMR90/inter/chr{name}')"
   ]
  },
  {
   "cell_type": "markdown",
   "metadata": {},
   "source": [
    "# Get all INTER interactions between the chromosomes\n"
   ]
  },
  {
   "cell_type": "code",
   "execution_count": null,
   "metadata": {},
   "outputs": [],
   "source": [
    "cell_line = 'IMR90'\n",
    "# cell_line = 'GM12878'\n",
    "\n",
    "for main_chromosome in chromosome_list:\n",
    "    print(f'Comparing Chromosome {main_chromosome} to all others')\n",
    "    \n",
    "    for chromosome_name in chromosome_list:\n",
    "        print(f'currently to {chromosome_name}')\n",
    "        \n",
    "        if main_chromosome == 'X':\n",
    "            pass\n",
    "        \n",
    "        if chromosome_name == 'X':\n",
    "            if cell_line == 'GM12878':\n",
    "                cooReader = gmlib.importer.CooMatrixHandler(f'/data/analysis/ag-reils/ag-reils-shared/Hi-C/meeteu/www.lcqb.upmc.fr/meetu/dataforstudent/HiC/GM12878/100kb_resolution_interchromosomal/chr{main_chromosome}_{chromosome_name}_100kb.RAWobserved', mapType = 'inter')\n",
    "                cooReader.save_ccmaps(f'./cmap_files/inter/chr{main_chromosome}/cmap_chr{main_chromosome}_with_{chromosome_name}.ccmap', xlabels=f'{main_chromosome}', ylabels=f'{chromosome_name}')\n",
    "            if cell_line == 'IMR90':\n",
    "                cooReader = gmlib.importer.CooMatrixHandler(f'/data/analysis/ag-reils/ag-reils-shared/Hi-C/meeteu/www.lcqb.upmc.fr/meetu/dataforstudent/HiC/IMR90/100kb_resolution_interchromosomal/chr{main_chromosome}_chr{chromosome_name}/MAPQGE30/chr{main_chromosome}_{chromosome_name}_100kb.RAWobserved', mapType = 'inter')\n",
    "                cooReader.save_ccmaps(f'./cmap_files/IMR90/inter/chr{main_chromosome}/cmap_chr{main_chromosome}_with_{chromosome_name}.ccmap', xlabels=f'{main_chromosome}', ylabels=f'{chromosome_name}')\n",
    "            del cooReader\n",
    "            \n",
    "        elif chromosome_name == main_chromosome or chromosome_name < main_chromosome:\n",
    "            pass\n",
    "        \n",
    "        else:\n",
    "            if cell_line == 'GM12878':\n",
    "                cooReader = gmlib.importer.CooMatrixHandler(f'/data/analysis/ag-reils/ag-reils-shared/Hi-C/meeteu/www.lcqb.upmc.fr/meetu/dataforstudent/HiC/GM12878/100kb_resolution_interchromosomal/chr{main_chromosome}_{chromosome_name}_100kb.RAWobserved', mapType = 'inter')\n",
    "                cooReader.save_ccmaps(f'./cmap_files/inter/chr{main_chromosome}/cmap_chr{main_chromosome}_with_{chromosome_name}.ccmap', xlabels=f'{main_chromosome}', ylabels=f'{chromosome_name}')\n",
    "           \n",
    "            if cell_line == 'IMR90':\n",
    "                cooReader = gmlib.importer.CooMatrixHandler(f'/data/analysis/ag-reils/ag-reils-shared/Hi-C/meeteu/www.lcqb.upmc.fr/meetu/dataforstudent/HiC/IMR90/100kb_resolution_interchromosomal/chr{main_chromosome}_chr{chromosome_name}/MAPQGE30/chr{main_chromosome}_{chromosome_name}_100kb.RAWobserved', mapType = 'inter')\n",
    "                cooReader.save_ccmaps(f'./cmap_files/IMR90/inter/chr{main_chromosome}/cmap_chr{main_chromosome}_with_{chromosome_name}.ccmap', xlabels=f'{main_chromosome}', ylabels=f'{chromosome_name}')\n",
    "            del cooReader\n",
    "\n"
   ]
  },
  {
   "cell_type": "markdown",
   "metadata": {},
   "source": [
    "# Get INTRA interactions"
   ]
  },
  {
   "cell_type": "code",
   "execution_count": null,
   "metadata": {},
   "outputs": [],
   "source": [
    "for chromosome in chromosome_list:\n",
    "    if cell_line == 'IMR90':\n",
    "        cooReader = gmlib.importer.CooMatrixHandler(f'/data/analysis/ag-reils/ag-reils-shared/Hi-C/meeteu/www.lcqb.upmc.fr/meetu/dataforstudent/HiC/IMR90/25kb_resolution_intrachromosomal/chr{chromosome}/MAPQGE30/chr{chromosome}_25kb.RAWobserved', mapType = 'intra')\n",
    "        cooReader.save_ccmaps(f'./cmap_files/25kb/IMR90/intra/cmap_{chromosome}.ccmap', xlabels=f'{chromosome}', ylabels=f'{chromosome}')\n",
    "    if cell_line == 'GM12878':\n",
    "        cooReader = gmlib.importer.CooMatrixHandler(f'/data/analysis/ag-reils/ag-reils-shared/Hi-C/meeteu/www.lcqb.upmc.fr/meetu/dataforstudent/HiC/GM12878/25kb_resolution_intrachromosomal/chr{chromosome}_25kb.RAWobserved', mapType = 'intra')\n",
    "        cooReader.save_ccmaps(f'./cmap_files/25kb/GM12878/intra/cmap_{chromosome}.ccmap', xlabels=f'{chromosome}', ylabels=f'{chromosome}')\n",
    "    del cooReader"
   ]
  },
  {
   "cell_type": "code",
   "execution_count": null,
   "metadata": {},
   "outputs": [],
   "source": []
  },
  {
   "cell_type": "code",
   "execution_count": null,
   "metadata": {},
   "outputs": [],
   "source": []
  },
  {
   "cell_type": "code",
   "execution_count": null,
   "metadata": {},
   "outputs": [],
   "source": []
  }
 ],
 "metadata": {
  "kernelspec": {
   "display_name": "Python 3",
   "language": "python",
   "name": "python3"
  },
  "language_info": {
   "codemirror_mode": {
    "name": "ipython",
    "version": 3
   },
   "file_extension": ".py",
   "mimetype": "text/x-python",
   "name": "python",
   "nbconvert_exporter": "python",
   "pygments_lexer": "ipython3",
   "version": "3.6.13"
  }
 },
 "nbformat": 4,
 "nbformat_minor": 4
}
