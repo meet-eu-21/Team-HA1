{
 "cells": [
  {
   "cell_type": "code",
   "execution_count": 63,
   "id": "4bef7a12",
   "metadata": {},
   "outputs": [],
   "source": [
    "import pandas as pd\n",
    "import numpy as np\n",
    "import os\n",
    "\n",
    "file_TopDomSol = \"/Users/Charlotte/VSC/MeetEU/evaluation/TopDomTests/bin/bintest.bed\"\n",
    "# file_solution = \"/data/analysis/uk_bb/intergenics/data/genopheno/scrnaseq/miscellaneous/meeteu/www.lcqb.upmc.fr/meetu/dataforstudent/TAD/GSE63525_GM12878_primary+replicate_Arrowhead_domainlist.txt\"\n",
    "# file_solution = \"www.lcqb.upmc.fr/meetu/dataforstudent/TAD/GSE63525_GM12878_primary+replicate_Arrowhead_domainlist.txt\"\n",
    "file_solution = \"/Users/Charlotte/TAD_Data/GSE63525_GM12878_primary+replicate_Arrowhead_domainlist.txt\"\n",
    "file_TopDomSol_chr1 = \"/Users/Charlotte/VSC/MeetEU/evaluation/TopDomTests/bin/chr1_100kb.bed\""
   ]
  },
  {
   "cell_type": "code",
   "execution_count": null,
   "id": "8dd8bcaf",
   "metadata": {},
   "outputs": [],
   "source": []
  },
  {
   "cell_type": "code",
   "execution_count": 97,
   "id": "d2d3f05e",
   "metadata": {},
   "outputs": [
    {
     "name": "stderr",
     "output_type": "stream",
     "text": [
      "/var/folders/j0/_0vrqyzn1v1c7syr0d2x5cwr0000gn/T/ipykernel_1071/1730260816.py:8: DeprecationWarning: `np.int` is a deprecated alias for the builtin `int`. To silence this warning, use `int` by itself. Doing this will not modify any behavior and is safe. When replacing `np.int`, you may wish to use e.g. `np.int64` or `np.int32` to specify the precision. If you wish to review your current use, check the release note link for additional information.\n",
      "Deprecated in NumPy 1.20; for more details and guidance: https://numpy.org/devdocs/release/1.20.0-notes.html#deprecations\n",
      "  df_solution_chr7[\"x1\"] = df_solution_chr7[\"x1\"].apply(lambda x: np.int(round(x/100000, 0)))\n",
      "/var/folders/j0/_0vrqyzn1v1c7syr0d2x5cwr0000gn/T/ipykernel_1071/1730260816.py:8: SettingWithCopyWarning: \n",
      "A value is trying to be set on a copy of a slice from a DataFrame.\n",
      "Try using .loc[row_indexer,col_indexer] = value instead\n",
      "\n",
      "See the caveats in the documentation: https://pandas.pydata.org/pandas-docs/stable/user_guide/indexing.html#returning-a-view-versus-a-copy\n",
      "  df_solution_chr7[\"x1\"] = df_solution_chr7[\"x1\"].apply(lambda x: np.int(round(x/100000, 0)))\n",
      "/var/folders/j0/_0vrqyzn1v1c7syr0d2x5cwr0000gn/T/ipykernel_1071/1730260816.py:9: DeprecationWarning: `np.int` is a deprecated alias for the builtin `int`. To silence this warning, use `int` by itself. Doing this will not modify any behavior and is safe. When replacing `np.int`, you may wish to use e.g. `np.int64` or `np.int32` to specify the precision. If you wish to review your current use, check the release note link for additional information.\n",
      "Deprecated in NumPy 1.20; for more details and guidance: https://numpy.org/devdocs/release/1.20.0-notes.html#deprecations\n",
      "  df_solution_chr7[\"x2\"] = df_solution_chr7[\"x2\"].apply(lambda x: np.int(round(x/100000, 0)))\n",
      "/var/folders/j0/_0vrqyzn1v1c7syr0d2x5cwr0000gn/T/ipykernel_1071/1730260816.py:9: SettingWithCopyWarning: \n",
      "A value is trying to be set on a copy of a slice from a DataFrame.\n",
      "Try using .loc[row_indexer,col_indexer] = value instead\n",
      "\n",
      "See the caveats in the documentation: https://pandas.pydata.org/pandas-docs/stable/user_guide/indexing.html#returning-a-view-versus-a-copy\n",
      "  df_solution_chr7[\"x2\"] = df_solution_chr7[\"x2\"].apply(lambda x: np.int(round(x/100000, 0)))\n"
     ]
    }
   ],
   "source": [
    "## arrowhead_solution\n",
    "df_solution = pd.read_csv(os.path.join(file_solution), delimiter=\"\\t\")\n",
    "\n",
    "chromosome = \"7\"\n",
    "df_solution_chr7 = df_solution[(df_solution[\"chr1\"] == chromosome) & (df_solution[\"chr2\"] == chromosome)]\n",
    "\n",
    "#parameters[\"scaling_factor\"] = 100000\n",
    "df_solution_chr7[\"x1\"] = df_solution_chr7[\"x1\"].apply(lambda x: np.int(round(x/100000, 0)))\n",
    "df_solution_chr7[\"x2\"] = df_solution_chr7[\"x2\"].apply(lambda x: np.int(round(x/100000, 0)))\n"
   ]
  },
  {
   "cell_type": "code",
   "execution_count": 98,
   "id": "14d4d658",
   "metadata": {},
   "outputs": [],
   "source": [
    "#arrowhead chr7\n",
    "df_solution_tuples = []\n",
    "\n",
    "for index, row in df_solution_chr7.iterrows():\n",
    "    df_solution_tuples.append((row[\"x1\"], row[\"x2\"]))\n",
    "df_solution_nodes = []\n",
    "\n",
    "for index, row in df_solution_chr7.iterrows():\n",
    "    df_solution_nodes.append(row[\"x1\"])\n",
    "    df_solution_nodes.append(row[\"x2\"])\n",
    "\n",
    "#\n",
    "df_sol = df_solution_chr7.iloc[:, 0:3]\n",
    "df_sol = df_sol.sort_values(by=['x1'])\n"
   ]
  },
  {
   "cell_type": "code",
   "execution_count": 99,
   "id": "6c297c3b",
   "metadata": {},
   "outputs": [
    {
     "name": "stdout",
     "output_type": "stream",
     "text": [
      "[(1526, 1543), (1526, 1546), (633, 644), (483, 500), (1357, 1373), (501, 505), (836, 847), (152, 161), (703, 720)]\n"
     ]
    }
   ],
   "source": [
    "print(df_solution_tuples[1:10])"
   ]
  },
  {
   "cell_type": "code",
   "execution_count": 100,
   "id": "3fa3128a",
   "metadata": {},
   "outputs": [
    {
     "name": "stdout",
     "output_type": "stream",
     "text": [
      "[627, 1526, 1543, 1526, 1546, 633, 644, 483, 500]\n"
     ]
    }
   ],
   "source": [
    "print(df_solution_nodes[1:10])"
   ]
  },
  {
   "cell_type": "code",
   "execution_count": 101,
   "id": "5082fe87",
   "metadata": {},
   "outputs": [
    {
     "name": "stdout",
     "output_type": "stream",
     "text": [
      "     chr1    x1    x2\n",
      "8241    7     6     6\n",
      "8105    7     6     8\n",
      "8054    7     8     9\n",
      "8000    7     9    10\n",
      "7976    7     9    12\n",
      "...   ...   ...   ...\n",
      "8232    7  1571  1571\n",
      "7816    7  1572  1583\n",
      "7815    7  1573  1581\n",
      "8172    7  1584  1585\n",
      "7941    7  1584  1588\n",
      "\n",
      "[458 rows x 3 columns]\n"
     ]
    }
   ],
   "source": [
    "print(df_sol)\n"
   ]
  },
  {
   "cell_type": "code",
   "execution_count": 102,
   "id": "824bb30a",
   "metadata": {},
   "outputs": [
    {
     "name": "stdout",
     "output_type": "stream",
     "text": [
      "     0            1            2       3\n",
      "0    7          0.0     300000.0  domain\n",
      "1    7     300000.0     900000.0  domain\n",
      "2    7     900000.0    1300000.0  domain\n",
      "3    7    1300000.0    1500000.0  domain\n",
      "4    7    1500000.0    2500000.0  domain\n",
      "..  ..          ...          ...     ...\n",
      "135  7  152500000.0  154500000.0  domain\n",
      "136  7  154500000.0  155600000.0  domain\n",
      "137  7  155600000.0  157200000.0  domain\n",
      "138  7  157200000.0  158300000.0  domain\n",
      "139  7  158300000.0  159200000.0  domain\n",
      "\n",
      "[140 rows x 4 columns]\n"
     ]
    }
   ],
   "source": [
    "df_topdom = pd.read_csv(file_TopDomSol, delimiter=\"\\t\", header=None)\n",
    "print(df_topdom)"
   ]
  },
  {
   "cell_type": "code",
   "execution_count": 103,
   "id": "36c84536",
   "metadata": {},
   "outputs": [
    {
     "name": "stderr",
     "output_type": "stream",
     "text": [
      "/var/folders/j0/_0vrqyzn1v1c7syr0d2x5cwr0000gn/T/ipykernel_1071/3355996852.py:7: DeprecationWarning: `np.int` is a deprecated alias for the builtin `int`. To silence this warning, use `int` by itself. Doing this will not modify any behavior and is safe. When replacing `np.int`, you may wish to use e.g. `np.int64` or `np.int32` to specify the precision. If you wish to review your current use, check the release note link for additional information.\n",
      "Deprecated in NumPy 1.20; for more details and guidance: https://numpy.org/devdocs/release/1.20.0-notes.html#deprecations\n",
      "  df_topdom.iloc[:,1] = df_topdom.iloc[:,1].apply(lambda x: np.int(round(x/100000, 0)))\n",
      "/var/folders/j0/_0vrqyzn1v1c7syr0d2x5cwr0000gn/T/ipykernel_1071/3355996852.py:8: DeprecationWarning: `np.int` is a deprecated alias for the builtin `int`. To silence this warning, use `int` by itself. Doing this will not modify any behavior and is safe. When replacing `np.int`, you may wish to use e.g. `np.int64` or `np.int32` to specify the precision. If you wish to review your current use, check the release note link for additional information.\n",
      "Deprecated in NumPy 1.20; for more details and guidance: https://numpy.org/devdocs/release/1.20.0-notes.html#deprecations\n",
      "  df_topdom.iloc[:,2] = df_topdom.iloc[:,2].apply(lambda x: np.int(round(x/100000, 0)))\n"
     ]
    }
   ],
   "source": [
    "## topdom solution chr7\n",
    "\n",
    "# df_topdom = df_topdom.rename(columns = {0:\"chr\", 1:\"x1\", 2:\"x2\", 3:\"label\"})\n",
    "df_solution_tuples_list = []\n",
    "df_solution_nodes_list = []\n",
    "\n",
    "df_topdom.iloc[:,1] = df_topdom.iloc[:,1].apply(lambda x: np.int(round(x/100000, 0)))\n",
    "df_topdom.iloc[:,2] = df_topdom.iloc[:,2].apply(lambda x: np.int(round(x/100000, 0)))\n",
    "\n"
   ]
  },
  {
   "cell_type": "code",
   "execution_count": 104,
   "id": "efb5f1e5",
   "metadata": {},
   "outputs": [
    {
     "data": {
      "text/html": [
       "<div>\n",
       "<style scoped>\n",
       "    .dataframe tbody tr th:only-of-type {\n",
       "        vertical-align: middle;\n",
       "    }\n",
       "\n",
       "    .dataframe tbody tr th {\n",
       "        vertical-align: top;\n",
       "    }\n",
       "\n",
       "    .dataframe thead th {\n",
       "        text-align: right;\n",
       "    }\n",
       "</style>\n",
       "<table border=\"1\" class=\"dataframe\">\n",
       "  <thead>\n",
       "    <tr style=\"text-align: right;\">\n",
       "      <th></th>\n",
       "      <th>chr1</th>\n",
       "      <th>x1</th>\n",
       "      <th>x2</th>\n",
       "    </tr>\n",
       "  </thead>\n",
       "  <tbody>\n",
       "    <tr>\n",
       "      <th>8241</th>\n",
       "      <td>7</td>\n",
       "      <td>6</td>\n",
       "      <td>6</td>\n",
       "    </tr>\n",
       "    <tr>\n",
       "      <th>8105</th>\n",
       "      <td>7</td>\n",
       "      <td>6</td>\n",
       "      <td>8</td>\n",
       "    </tr>\n",
       "    <tr>\n",
       "      <th>8054</th>\n",
       "      <td>7</td>\n",
       "      <td>8</td>\n",
       "      <td>9</td>\n",
       "    </tr>\n",
       "    <tr>\n",
       "      <th>8000</th>\n",
       "      <td>7</td>\n",
       "      <td>9</td>\n",
       "      <td>10</td>\n",
       "    </tr>\n",
       "    <tr>\n",
       "      <th>7976</th>\n",
       "      <td>7</td>\n",
       "      <td>9</td>\n",
       "      <td>12</td>\n",
       "    </tr>\n",
       "    <tr>\n",
       "      <th>...</th>\n",
       "      <td>...</td>\n",
       "      <td>...</td>\n",
       "      <td>...</td>\n",
       "    </tr>\n",
       "    <tr>\n",
       "      <th>8232</th>\n",
       "      <td>7</td>\n",
       "      <td>1571</td>\n",
       "      <td>1571</td>\n",
       "    </tr>\n",
       "    <tr>\n",
       "      <th>7816</th>\n",
       "      <td>7</td>\n",
       "      <td>1572</td>\n",
       "      <td>1583</td>\n",
       "    </tr>\n",
       "    <tr>\n",
       "      <th>7815</th>\n",
       "      <td>7</td>\n",
       "      <td>1573</td>\n",
       "      <td>1581</td>\n",
       "    </tr>\n",
       "    <tr>\n",
       "      <th>8172</th>\n",
       "      <td>7</td>\n",
       "      <td>1584</td>\n",
       "      <td>1585</td>\n",
       "    </tr>\n",
       "    <tr>\n",
       "      <th>7941</th>\n",
       "      <td>7</td>\n",
       "      <td>1584</td>\n",
       "      <td>1588</td>\n",
       "    </tr>\n",
       "  </tbody>\n",
       "</table>\n",
       "<p>458 rows × 3 columns</p>\n",
       "</div>"
      ],
      "text/plain": [
       "     chr1    x1    x2\n",
       "8241    7     6     6\n",
       "8105    7     6     8\n",
       "8054    7     8     9\n",
       "8000    7     9    10\n",
       "7976    7     9    12\n",
       "...   ...   ...   ...\n",
       "8232    7  1571  1571\n",
       "7816    7  1572  1583\n",
       "7815    7  1573  1581\n",
       "8172    7  1584  1585\n",
       "7941    7  1584  1588\n",
       "\n",
       "[458 rows x 3 columns]"
      ]
     },
     "execution_count": 104,
     "metadata": {},
     "output_type": "execute_result"
    }
   ],
   "source": [
    "df_sol"
   ]
  },
  {
   "cell_type": "code",
   "execution_count": 106,
   "id": "914ec42f",
   "metadata": {},
   "outputs": [],
   "source": [
    "# list(range(df_sol.iloc[row, 1], df_sol.iloc[row,2]))\n"
   ]
  },
  {
   "cell_type": "code",
   "execution_count": 109,
   "id": "b5a662c2",
   "metadata": {},
   "outputs": [
    {
     "name": "stdout",
     "output_type": "stream",
     "text": [
      "[[], [6, 7], [8], [9], [9, 10, 11], [10], [11], [12, 13, 14], [16, 17, 18, 19, 20, 21, 22, 23], [21]]\n"
     ]
    }
   ],
   "source": [
    "# arrowhead_solution_lists = [[620, 621, 522, ..., 627], [1526, ..., 1543], [6], [6, 7, 8], ..] \n",
    "arrowhead_solution_list = []\n",
    "for row in range(0,len(df_sol)):\n",
    "    r = range(df_sol.iloc[row, 1], df_sol.iloc[row,2])\n",
    "    l = [*r]\n",
    "    arrowhead_solution_list.append(l)\n",
    "print(arrowhead_solution_list[0:10])"
   ]
  },
  {
   "cell_type": "code",
   "execution_count": null,
   "id": "2f7a44b9",
   "metadata": {},
   "outputs": [],
   "source": [
    "\n",
    "# chromosome = \"1\"\n",
    "# df_solution_chr1 = df_solution[(df_solution[\"chr1\"] == chromosome) & (df_solution[\"chr2\"] == chromosome)]\n",
    "\n",
    "# #parameters[\"scaling_factor\"] = 100000\n",
    "# df_solution_chr1[\"x1\"] = df_solution_chr1[\"x1\"].apply(lambda x: np.int(round(x/100000, 0)))\n",
    "# df_solution_chr1[\"x2\"] = df_solution_chr1[\"x2\"].apply(lambda x: np.int(round(x/100000, 0)))"
   ]
  },
  {
   "cell_type": "code",
   "execution_count": 67,
   "id": "a47b1d3c",
   "metadata": {},
   "outputs": [],
   "source": [
    "# #arrowhead chr 1\n",
    "# df_solution_tuples_1 = []\n",
    "\n",
    "# for index, row in df_solution_chr1.iterrows():\n",
    "#     df_solution_tuples_1.append((row[\"x1\"], row[\"x2\"]))\n",
    "# df_solution_nodes_1 = []\n",
    "\n",
    "# for index, row in df_solution_chr1.iterrows():\n",
    "#     df_solution_nodes_1.append(row[\"x1\"])\n",
    "#     df_solution_nodes_1.append(row[\"x2\"])\n",
    "\n",
    "# #\n",
    "# df_sol_chr1 = df_solution_chr1.iloc[:, 0:3]\n",
    "# df_sol_chr1 = df_sol_chr1.sort_values(by=['x1'])"
   ]
  },
  {
   "cell_type": "code",
   "execution_count": 110,
   "id": "f0db361f",
   "metadata": {},
   "outputs": [],
   "source": [
    "# df_topdom_chr1 = pd.read_csv(file_TopDomSol_chr1, delimiter=\"\\t\", header=None)\n",
    "# print(df_topdom_chr1)"
   ]
  },
  {
   "cell_type": "code",
   "execution_count": 111,
   "id": "21879aee",
   "metadata": {},
   "outputs": [],
   "source": [
    "# ## topdom solution\n",
    "\n",
    "# # df_topdom = df_topdom.rename(columns = {0:\"chr\", 1:\"x1\", 2:\"x2\", 3:\"label\"})\n",
    "# # df_solution_tuples_list_chr1 = []\n",
    "# # df_solution_nodes_list_chr1 = []\n",
    "\n",
    "# df_topdom_chr1.iloc[:,1] = df_topdom_chr1.iloc[:,1].apply(lambda x: np.int(round(x/100000, 0)))\n",
    "# df_topdom_chr1.iloc[:,2] = df_topdom_chr1.iloc[:,2].apply(lambda x: np.int(round(x/100000, 0)))"
   ]
  },
  {
   "cell_type": "code",
   "execution_count": 112,
   "id": "1d336406",
   "metadata": {},
   "outputs": [],
   "source": [
    "# arrowhead_solution_list_chr1 = []\n",
    "# for row in range(0,len(df_sol_chr1)):\n",
    "#     arrowhead_solution_list_chr1.append(list(range(df_sol_chr1.iloc[row, 1], df_sol_chr1.iloc[row,2])))"
   ]
  },
  {
   "cell_type": "code",
   "execution_count": 96,
   "id": "ccd36ba6",
   "metadata": {},
   "outputs": [
    {
     "name": "stdout",
     "output_type": "stream",
     "text": [
      "\u001b[H\u001b[2J"
     ]
    }
   ],
   "source": [
    "clear(list)"
   ]
  },
  {
   "cell_type": "code",
   "execution_count": 113,
   "id": "b3765b0c",
   "metadata": {},
   "outputs": [
    {
     "name": "stdout",
     "output_type": "stream",
     "text": [
      "[[6, 7], [8], [9], [9, 10, 11], [10], [11], [12, 13, 14], [16, 17, 18, 19, 20, 21, 22, 23], [21]]\n",
      "[[6, 7], [8], [9], [9, 10, 11], [10], [11], [12, 13, 14], [16, 17, 18, 19, 20, 21, 22, 23], [21]]\n"
     ]
    }
   ],
   "source": [
    "print(arrowhead_solution_list[1:10])\n",
    "# print(arrowhead_solution_list[1:10])"
   ]
  },
  {
   "cell_type": "code",
   "execution_count": 114,
   "id": "d9958c58",
   "metadata": {},
   "outputs": [
    {
     "name": "stdout",
     "output_type": "stream",
     "text": [
      "     0     1     2       3\n",
      "0    7     0     3  domain\n",
      "1    7     3     9  domain\n",
      "2    7     9    13  domain\n",
      "3    7    13    15  domain\n",
      "4    7    15    25  domain\n",
      "..  ..   ...   ...     ...\n",
      "135  7  1525  1545  domain\n",
      "136  7  1545  1556  domain\n",
      "137  7  1556  1572  domain\n",
      "138  7  1572  1583  domain\n",
      "139  7  1583  1592  domain\n",
      "\n",
      "[140 rows x 4 columns]\n"
     ]
    }
   ],
   "source": [
    "print(df_topdom)\n",
    "# print(df_topdom_chr1)"
   ]
  },
  {
   "cell_type": "code",
   "execution_count": 115,
   "id": "e7f854bb",
   "metadata": {},
   "outputs": [],
   "source": [
    "df_topdom.columns\n",
    "df_topdom = df_topdom.rename(columns={0:\"chr\", 1:\"x1\", 2:\"x2\",3:\"label\"})\n",
    "\n",
    "df_topdom = df_topdom.astype({\"x1\":'int', \"x2\":'int'}) \n",
    "# df_topdom[[\"x1\", \"x2\"]] = df_topdom[[\"x1\", \"x2\"]].astype(int))"
   ]
  },
  {
   "cell_type": "code",
   "execution_count": null,
   "id": "4f54490a",
   "metadata": {},
   "outputs": [],
   "source": [
    "# df_topdom_chr1.columns\n",
    "# df_topdom_chr1 = df_topdom_chr1.rename(columns={0:\"chr\", 1:\"x1\", 2:\"x2\",3:\"label\"})\n",
    "\n",
    "# df_topdom_chr1 = df_topdom_chr1.astype({\"x1\":'int', \"x2\":'int'}) \n",
    "# # df_topdom[[\"x1\", \"x2\"]] = df_topdom[[\"x1\", \"x2\"]].astype(int))"
   ]
  },
  {
   "cell_type": "code",
   "execution_count": 116,
   "id": "c594404f",
   "metadata": {},
   "outputs": [
    {
     "name": "stdout",
     "output_type": "stream",
     "text": [
      "     chr    x1    x2   label\n",
      "0      7     0     3  domain\n",
      "1      7     3     9  domain\n",
      "2      7     9    13  domain\n",
      "3      7    13    15  domain\n",
      "4      7    15    25  domain\n",
      "..   ...   ...   ...     ...\n",
      "135    7  1525  1545  domain\n",
      "136    7  1545  1556  domain\n",
      "137    7  1556  1572  domain\n",
      "138    7  1572  1583  domain\n",
      "139    7  1583  1592  domain\n",
      "\n",
      "[140 rows x 4 columns]\n"
     ]
    }
   ],
   "source": [
    "print(df_topdom)\n",
    "# print(df_topdom_chr1)"
   ]
  },
  {
   "cell_type": "code",
   "execution_count": 117,
   "id": "b2152bc1",
   "metadata": {},
   "outputs": [],
   "source": [
    "df_td = df_topdom[df_topdom[\"label\"] != \"boundary\"]\n",
    "# df_td_chr1 = df_topdom_chr1[df_topdom_chr1[\"label\"] != \"boundary\"]"
   ]
  },
  {
   "cell_type": "code",
   "execution_count": 118,
   "id": "389d955d",
   "metadata": {},
   "outputs": [
    {
     "name": "stdout",
     "output_type": "stream",
     "text": [
      "     chr    x1    x2   label\n",
      "0      7     0     3  domain\n",
      "1      7     3     9  domain\n",
      "2      7     9    13  domain\n",
      "3      7    13    15  domain\n",
      "4      7    15    25  domain\n",
      "..   ...   ...   ...     ...\n",
      "135    7  1525  1545  domain\n",
      "136    7  1545  1556  domain\n",
      "137    7  1556  1572  domain\n",
      "138    7  1572  1583  domain\n",
      "139    7  1583  1592  domain\n",
      "\n",
      "[132 rows x 4 columns]\n"
     ]
    }
   ],
   "source": [
    "print(df_td)\n",
    "# print(df_td_chr1)"
   ]
  },
  {
   "cell_type": "code",
   "execution_count": 120,
   "id": "1514d98a",
   "metadata": {},
   "outputs": [],
   "source": [
    "td_solution_list = []\n",
    "for row in range(0,len(df_td)):\n",
    "    r = range(df_td.iloc[row, 1], df_td.iloc[row,2])\n",
    "    l = [*r]\n",
    "    td_solution_list.append(l)"
   ]
  },
  {
   "cell_type": "code",
   "execution_count": null,
   "id": "9a4bbb58",
   "metadata": {},
   "outputs": [],
   "source": [
    "# td_solution_list_chr1 = []\n",
    "# for row in range(0,len(df_td_chr1)):\n",
    "#     td_solution_list_chr1.append(list(range(df_td_chr1.iloc[row, 1], df_td_chr1.iloc[row,2])))"
   ]
  },
  {
   "cell_type": "code",
   "execution_count": 122,
   "id": "eea5ce7a",
   "metadata": {},
   "outputs": [
    {
     "name": "stdout",
     "output_type": "stream",
     "text": [
      "[[0, 1, 2], [3, 4, 5, 6, 7, 8], [9, 10, 11, 12], [13, 14], [15, 16, 17, 18, 19, 20, 21, 22, 23, 24], [29, 30, 31, 32, 33, 34, 35, 36, 37, 38, 39, 40, 41, 42, 43, 44, 45], [46, 47, 48, 49, 50, 51], [52, 53, 54, 55, 56, 57, 58], [59, 60, 61, 62, 63, 64, 65, 66, 67, 68, 69], [70, 71, 72, 73, 74, 75]]\n"
     ]
    }
   ],
   "source": [
    "print(td_solution_list[0:10])\n",
    "# print(td_solution_list_chr1[1:10])"
   ]
  },
  {
   "cell_type": "code",
   "execution_count": 137,
   "id": "87763228",
   "metadata": {},
   "outputs": [],
   "source": [
    "## jaccard index\n",
    "predicted_tads_per_tad_prediction_methods = []\n",
    "\n",
    "predicted_tads_per_tad_prediction_methods.append(arrowhead_solution_list)\n",
    "predicted_tads_per_tad_prediction_methods.append(td_solution_list)\n",
    "\n",
    "tad_prediction_methods = [\"arrowhead\", \"topdom\"]"
   ]
  },
  {
   "cell_type": "code",
   "execution_count": 178,
   "id": "4c24b8b0",
   "metadata": {},
   "outputs": [],
   "source": [
    "## jaccard index\n",
    "predicted_tads_per_tad_prediction_methods = []\n",
    "\n",
    "predicted_tads_per_tad_prediction_methods.append(flat_arrow)\n",
    "predicted_tads_per_tad_prediction_methods.append(flat_td)\n",
    "\n",
    "tad_prediction_methods = [\"arrowhead\", \"topdom\"]"
   ]
  },
  {
   "cell_type": "code",
   "execution_count": 138,
   "id": "564e644e",
   "metadata": {},
   "outputs": [],
   "source": [
    "##jaccard index\n",
    "from itertools import combinations"
   ]
  },
  {
   "cell_type": "code",
   "execution_count": 153,
   "id": "55eee546",
   "metadata": {},
   "outputs": [
    {
     "name": "stdout",
     "output_type": "stream",
     "text": [
      "[0]\n"
     ]
    }
   ],
   "source": [
    "arr = np.where(np.array(tad_prediction_methods) == tad_prediction_methods_combination[0])[0]\n",
    "print(arr.astype(int))"
   ]
  },
  {
   "cell_type": "code",
   "execution_count": 179,
   "id": "60a2d709",
   "metadata": {},
   "outputs": [
    {
     "name": "stdout",
     "output_type": "stream",
     "text": [
      "[0]\n"
     ]
    },
    {
     "ename": "IndexError",
     "evalue": "too many indices for array: array is 0-dimensional, but 1 were indexed",
     "output_type": "error",
     "traceback": [
      "\u001b[0;31m---------------------------------------------------------------------------\u001b[0m",
      "\u001b[0;31mIndexError\u001b[0m                                Traceback (most recent call last)",
      "\u001b[0;32m/var/folders/j0/_0vrqyzn1v1c7syr0d2x5cwr0000gn/T/ipykernel_1071/2195102192.py\u001b[0m in \u001b[0;36m<module>\u001b[0;34m\u001b[0m\n\u001b[1;32m      6\u001b[0m     \u001b[0mprint\u001b[0m\u001b[0;34m(\u001b[0m\u001b[0marr\u001b[0m\u001b[0;34m)\u001b[0m\u001b[0;34m\u001b[0m\u001b[0;34m\u001b[0m\u001b[0m\n\u001b[1;32m      7\u001b[0m     \u001b[0mtads1\u001b[0m \u001b[0;34m=\u001b[0m \u001b[0mnp\u001b[0m\u001b[0;34m.\u001b[0m\u001b[0marray\u001b[0m\u001b[0;34m(\u001b[0m\u001b[0mpredicted_tads_per_tad_prediction_methods\u001b[0m\u001b[0;34m)\u001b[0m\u001b[0;34m[\u001b[0m\u001b[0;36m0\u001b[0m\u001b[0;34m]\u001b[0m\u001b[0;34m\u001b[0m\u001b[0;34m\u001b[0m\u001b[0m\n\u001b[0;32m----> 8\u001b[0;31m     \u001b[0mtads1\u001b[0m \u001b[0;34m=\u001b[0m \u001b[0mnp\u001b[0m\u001b[0;34m.\u001b[0m\u001b[0marray\u001b[0m\u001b[0;34m(\u001b[0m\u001b[0mtads1\u001b[0m\u001b[0;34m)\u001b[0m\u001b[0;34m[\u001b[0m\u001b[0marr\u001b[0m\u001b[0;34m]\u001b[0m\u001b[0;34m\u001b[0m\u001b[0;34m\u001b[0m\u001b[0m\n\u001b[0m\u001b[1;32m      9\u001b[0m     \u001b[0mtads1\u001b[0m \u001b[0;34m=\u001b[0m \u001b[0mtads1\u001b[0m\u001b[0;34m[\u001b[0m\u001b[0;36m0\u001b[0m\u001b[0;34m]\u001b[0m\u001b[0;34m\u001b[0m\u001b[0;34m\u001b[0m\u001b[0m\n\u001b[1;32m     10\u001b[0m     \u001b[0mtads1\u001b[0m \u001b[0;34m=\u001b[0m \u001b[0mset\u001b[0m\u001b[0;34m(\u001b[0m\u001b[0mtads1\u001b[0m\u001b[0;34m)\u001b[0m\u001b[0;34m\u001b[0m\u001b[0;34m\u001b[0m\u001b[0m\n",
      "\u001b[0;31mIndexError\u001b[0m: too many indices for array: array is 0-dimensional, but 1 were indexed"
     ]
    }
   ],
   "source": [
    "jaccard_index_tad_prediction_methods_combinations = {}\n",
    "\n",
    "for tad_prediction_methods_combination in list(combinations(tad_prediction_methods, 2)):\n",
    "    arr = np.where(np.array(tad_prediction_methods) == tad_prediction_methods_combination[0])[0]\n",
    "    arr = arr.astype(int)\n",
    "    print(arr)\n",
    "    tads1 = np.array(predicted_tads_per_tad_prediction_methods)[0]\n",
    "    tads1 = np.array(tads1)[arr]\n",
    "    tads1 = tads1[0]\n",
    "    tads1 = set(tads1)\n",
    "    print(tads1)\n",
    "\n",
    "    arr2 = np.where(np.array(tad_prediction_methods) == tad_prediction_methods_combination[1])[0]\n",
    "    tads2 = np.array(predicted_tads_per_tad_prediction_methods)[0]\n",
    "    tads2 = np.array(tads2)[arr2]\n",
    "    tads2 = tads2[0]\n",
    "    tads2 = set(tads2)\n",
    "    print(tads2)\n",
    "    \n",
    "    jaccard_index = len(set(tads1) & set(tads2)) / len(set(tads1) | set(tads2))\n",
    "    jaccard_index_tad_prediction_methods_combinations[tad_prediction_methods_combination] = jaccard_index\n",
    "print(jaccard_index)\n",
    "print(jaccard_index_tad_prediction_methods_combinations)"
   ]
  },
  {
   "cell_type": "code",
   "execution_count": 183,
   "id": "8049d68c",
   "metadata": {},
   "outputs": [
    {
     "name": "stdout",
     "output_type": "stream",
     "text": [
      "0.5713387806411062\n",
      "{('arrowhead', 'topdom'): 0.5713387806411062}\n"
     ]
    }
   ],
   "source": [
    "jaccard_index_tad_prediction_methods_combinations = {}\n",
    "\n",
    "for tad_prediction_methods_combination in list(combinations(tad_prediction_methods, 2)):\n",
    "    arr = np.where(np.array(tad_prediction_methods) == tad_prediction_methods_combination[0])[0]\n",
    "    arr = arr.astype(int)\n",
    "#     print(arr)\n",
    "    tads1 = np.array(predicted_tads_per_tad_prediction_methods)\n",
    "    tads1 = np.array(tads1)[arr]\n",
    "    tads1 = tads1[0]\n",
    "    tads1 = set(tads1)\n",
    "#     print(tads1)\n",
    "\n",
    "    arr2 = np.where(np.array(tad_prediction_methods) == tad_prediction_methods_combination[1])[0]\n",
    "    tads2 = np.array(predicted_tads_per_tad_prediction_methods)\n",
    "    tads2 = np.array(tads2)[arr2]\n",
    "    tads2 = tads2[0]\n",
    "    tads2 = set(tads2)\n",
    "#     print(tads2)\n",
    "    \n",
    "    jaccard_index = len(set(tads1) & set(tads2)) / len(set(tads1) | set(tads2))\n",
    "    jaccard_index_tad_prediction_methods_combinations[tad_prediction_methods_combination] = jaccard_index\n",
    "print(jaccard_index)\n",
    "print(jaccard_index_tad_prediction_methods_combinations)"
   ]
  },
  {
   "cell_type": "code",
   "execution_count": 133,
   "id": "b995c750",
   "metadata": {},
   "outputs": [],
   "source": [
    "del list"
   ]
  },
  {
   "cell_type": "code",
   "execution_count": 123,
   "id": "7f2cf462",
   "metadata": {},
   "outputs": [],
   "source": [
    "# flatten list: [item for sublist in arrowhead_solution_lists for item in sublist] \n",
    "flat_arrow = set([arr_td_item for arr_td_sub in arrowhead_solution_list for arr_td_item in arr_td_sub])\n",
    "# flat_arrow_chr1 = set([arr_td_item_chr1 for arr_td_sub_chr1 in arrowhead_solution_list_chr1 for arr_td_item_chr1 in arr_td_sub_chr1])\n",
    "flat_td = set([top_td_item for top_td_sub in td_solution_list for top_td_item in top_td_sub])\n",
    "# flat_td_chr1 = set([top_td_item_chr1 for top_td_sub_chr1 in td_solution_list_chr1 for top_td_item_chr1 in top_td_sub_chr1])"
   ]
  },
  {
   "cell_type": "code",
   "execution_count": 124,
   "id": "01841393",
   "metadata": {},
   "outputs": [
    {
     "name": "stdout",
     "output_type": "stream",
     "text": [
      "{6, 7, 8, 9, 10, 11, 12, 13, 14, 16, 17, 18, 19, 20, 21, 22, 23, 24, 25, 26, 27, 28, 29, 30, 31, 32, 33, 34, 35, 36, 37, 38, 39, 40, 41, 42, 43, 44, 45, 46, 47, 48, 49, 50, 51, 52, 53, 54, 55, 56, 57, 62, 63, 64, 65, 70, 72, 76, 77, 78, 79, 80, 81, 82, 84, 85, 86, 87, 106, 107, 108, 110, 111, 112, 113, 121, 122, 123, 126, 148, 149, 150, 152, 153, 154, 155, 156, 157, 158, 159, 160, 170, 171, 172, 173, 174, 175, 178, 179, 184, 185, 186, 200, 201, 202, 203, 208, 209, 210, 211, 213, 214, 215, 219, 221, 222, 223, 224, 226, 227, 229, 230, 231, 232, 233, 234, 235, 236, 237, 238, 239, 240, 241, 242, 243, 244, 245, 246, 248, 249, 250, 251, 253, 254, 255, 259, 260, 261, 262, 263, 264, 265, 266, 267, 268, 269, 270, 271, 272, 273, 274, 275, 276, 277, 278, 279, 282, 283, 284, 285, 286, 287, 288, 289, 290, 291, 292, 293, 294, 300, 302, 303, 304, 305, 307, 308, 309, 310, 311, 312, 313, 314, 315, 316, 317, 318, 319, 320, 322, 323, 325, 328, 329, 330, 331, 332, 333, 334, 335, 336, 337, 338, 339, 343, 344, 345, 346, 347, 352, 353, 354, 355, 357, 358, 359, 360, 361, 362, 363, 364, 369, 370, 371, 372, 373, 374, 375, 376, 377, 378, 379, 380, 381, 382, 383, 384, 385, 386, 388, 389, 390, 391, 392, 393, 394, 395, 396, 397, 399, 400, 401, 410, 411, 412, 413, 414, 415, 416, 417, 418, 419, 420, 421, 422, 423, 424, 425, 426, 427, 428, 429, 430, 431, 432, 433, 434, 435, 436, 437, 438, 440, 441, 442, 443, 444, 445, 446, 447, 448, 449, 450, 451, 452, 460, 461, 462, 463, 464, 465, 466, 467, 468, 469, 470, 473, 474, 475, 476, 477, 478, 480, 481, 483, 484, 485, 486, 487, 488, 489, 490, 491, 492, 493, 494, 495, 496, 497, 498, 499, 501, 502, 503, 504, 505, 506, 507, 548, 549, 550, 551, 552, 553, 554, 555, 556, 559, 560, 561, 620, 621, 622, 623, 624, 625, 626, 633, 634, 635, 636, 637, 638, 639, 640, 641, 642, 643, 653, 656, 657, 658, 660, 661, 662, 663, 664, 668, 669, 670, 671, 672, 673, 674, 675, 676, 677, 678, 679, 680, 681, 682, 683, 684, 685, 689, 690, 691, 692, 693, 694, 696, 697, 698, 699, 700, 701, 702, 703, 704, 705, 706, 707, 708, 709, 710, 711, 712, 713, 714, 715, 716, 717, 718, 719, 728, 730, 731, 732, 733, 734, 735, 736, 737, 738, 739, 753, 754, 755, 756, 757, 758, 769, 770, 771, 773, 774, 775, 776, 797, 798, 799, 803, 804, 805, 806, 807, 808, 809, 810, 811, 812, 813, 814, 815, 817, 818, 819, 820, 821, 822, 823, 830, 831, 832, 836, 837, 838, 839, 840, 841, 842, 843, 844, 845, 846, 847, 848, 849, 850, 851, 855, 856, 857, 858, 859, 860, 862, 863, 864, 866, 867, 868, 869, 870, 871, 872, 874, 875, 876, 877, 878, 879, 882, 883, 884, 898, 899, 900, 903, 904, 905, 906, 908, 909, 910, 911, 912, 913, 916, 917, 918, 919, 920, 922, 923, 924, 925, 926, 927, 928, 935, 936, 937, 938, 941, 942, 949, 950, 952, 953, 954, 958, 959, 967, 976, 977, 978, 979, 981, 982, 983, 984, 985, 986, 987, 988, 991, 992, 993, 994, 995, 996, 997, 998, 999, 1001, 1002, 1003, 1004, 1007, 1008, 1010, 1011, 1013, 1014, 1015, 1016, 1017, 1018, 1024, 1025, 1026, 1029, 1031, 1032, 1033, 1034, 1035, 1036, 1037, 1039, 1040, 1041, 1042, 1043, 1044, 1046, 1047, 1048, 1049, 1050, 1051, 1053, 1054, 1055, 1056, 1057, 1058, 1059, 1060, 1062, 1063, 1064, 1065, 1066, 1067, 1068, 1069, 1070, 1071, 1072, 1073, 1074, 1077, 1078, 1079, 1080, 1081, 1107, 1108, 1109, 1110, 1118, 1119, 1122, 1123, 1124, 1125, 1143, 1144, 1156, 1157, 1158, 1159, 1160, 1161, 1162, 1163, 1164, 1166, 1167, 1168, 1169, 1171, 1172, 1173, 1174, 1175, 1176, 1177, 1196, 1197, 1198, 1199, 1200, 1201, 1202, 1203, 1204, 1205, 1206, 1208, 1209, 1210, 1211, 1213, 1214, 1215, 1216, 1219, 1220, 1221, 1228, 1229, 1232, 1233, 1234, 1235, 1238, 1247, 1248, 1249, 1250, 1251, 1252, 1257, 1258, 1259, 1260, 1261, 1262, 1263, 1270, 1272, 1273, 1274, 1275, 1276, 1277, 1278, 1285, 1286, 1287, 1288, 1289, 1290, 1291, 1292, 1293, 1294, 1295, 1296, 1297, 1298, 1306, 1307, 1308, 1309, 1310, 1311, 1312, 1313, 1320, 1321, 1322, 1324, 1325, 1326, 1327, 1328, 1329, 1330, 1338, 1339, 1341, 1342, 1343, 1344, 1345, 1347, 1350, 1351, 1352, 1354, 1355, 1356, 1357, 1358, 1359, 1360, 1361, 1362, 1363, 1364, 1365, 1366, 1367, 1368, 1369, 1370, 1371, 1372, 1373, 1374, 1375, 1376, 1377, 1378, 1379, 1380, 1381, 1382, 1383, 1386, 1387, 1388, 1389, 1390, 1391, 1392, 1395, 1396, 1398, 1399, 1402, 1403, 1404, 1405, 1406, 1407, 1408, 1409, 1410, 1411, 1412, 1413, 1414, 1415, 1416, 1417, 1418, 1419, 1423, 1424, 1426, 1427, 1428, 1429, 1430, 1444, 1445, 1480, 1481, 1482, 1483, 1484, 1485, 1486, 1487, 1488, 1489, 1490, 1491, 1492, 1493, 1494, 1500, 1502, 1503, 1504, 1505, 1506, 1507, 1510, 1511, 1512, 1513, 1514, 1520, 1522, 1523, 1526, 1527, 1528, 1529, 1530, 1531, 1532, 1533, 1534, 1535, 1536, 1537, 1538, 1539, 1540, 1541, 1542, 1543, 1544, 1545, 1546, 1547, 1548, 1549, 1550, 1551, 1552, 1553, 1554, 1555, 1556, 1557, 1558, 1559, 1560, 1561, 1562, 1564, 1565, 1567, 1568, 1569, 1570, 1571, 1572, 1573, 1574, 1575, 1576, 1577, 1578, 1579, 1580, 1581, 1582, 1584, 1585, 1586, 1587}\n",
      "{0, 1, 2, 3, 4, 5, 6, 7, 8, 9, 10, 11, 12, 13, 14, 15, 16, 17, 18, 19, 20, 21, 22, 23, 24, 29, 30, 31, 32, 33, 34, 35, 36, 37, 38, 39, 40, 41, 42, 43, 44, 45, 46, 47, 48, 49, 50, 51, 52, 53, 54, 55, 56, 57, 58, 59, 60, 61, 62, 63, 64, 65, 66, 67, 68, 69, 70, 71, 72, 73, 74, 75, 76, 77, 78, 79, 80, 81, 82, 83, 84, 85, 86, 87, 88, 89, 90, 91, 92, 93, 94, 95, 96, 97, 98, 99, 100, 101, 102, 103, 104, 105, 106, 107, 108, 109, 110, 111, 112, 113, 114, 115, 116, 117, 118, 119, 120, 121, 122, 123, 124, 125, 126, 127, 128, 129, 130, 131, 132, 133, 134, 135, 136, 137, 138, 139, 140, 141, 142, 143, 144, 145, 146, 147, 148, 149, 150, 151, 152, 153, 154, 155, 156, 157, 158, 159, 160, 161, 162, 163, 164, 165, 166, 167, 168, 169, 170, 171, 172, 173, 174, 175, 176, 177, 178, 179, 180, 181, 182, 183, 184, 185, 186, 187, 188, 189, 190, 191, 192, 193, 194, 195, 196, 197, 198, 199, 200, 201, 202, 203, 204, 205, 206, 207, 208, 209, 210, 211, 212, 213, 214, 215, 216, 217, 218, 219, 220, 221, 222, 223, 224, 225, 226, 227, 228, 229, 230, 231, 232, 233, 234, 235, 238, 239, 240, 241, 242, 243, 244, 245, 246, 247, 248, 249, 250, 251, 252, 253, 254, 255, 256, 257, 258, 259, 260, 261, 262, 263, 264, 265, 266, 267, 268, 269, 270, 271, 272, 273, 274, 275, 276, 277, 278, 279, 280, 281, 282, 283, 284, 285, 286, 287, 288, 289, 290, 291, 292, 293, 294, 295, 296, 297, 298, 299, 300, 301, 302, 303, 304, 305, 306, 307, 308, 309, 310, 311, 312, 313, 314, 315, 316, 317, 318, 319, 320, 321, 322, 323, 324, 325, 326, 327, 328, 329, 330, 331, 332, 333, 334, 335, 336, 337, 338, 339, 340, 341, 342, 343, 344, 345, 346, 347, 348, 349, 350, 351, 352, 353, 354, 355, 356, 357, 358, 359, 360, 361, 362, 363, 364, 365, 366, 367, 368, 369, 370, 371, 372, 373, 374, 375, 376, 377, 378, 379, 380, 381, 382, 383, 387, 388, 389, 390, 391, 392, 393, 394, 395, 396, 397, 398, 399, 400, 401, 402, 403, 404, 405, 406, 407, 408, 409, 410, 411, 412, 413, 414, 415, 416, 417, 420, 421, 422, 423, 424, 425, 426, 427, 428, 429, 430, 431, 432, 433, 434, 435, 436, 437, 438, 439, 440, 441, 442, 443, 444, 445, 446, 447, 448, 449, 450, 451, 452, 453, 454, 455, 456, 457, 458, 459, 460, 461, 462, 463, 464, 465, 466, 467, 468, 469, 470, 471, 472, 473, 474, 475, 476, 477, 478, 479, 484, 485, 486, 487, 488, 489, 490, 491, 492, 493, 494, 495, 496, 497, 498, 499, 500, 501, 502, 503, 504, 505, 506, 507, 508, 509, 510, 511, 512, 513, 514, 515, 516, 517, 518, 519, 520, 521, 522, 523, 524, 525, 526, 527, 528, 529, 530, 531, 532, 533, 534, 535, 536, 537, 538, 539, 540, 541, 542, 543, 544, 545, 546, 547, 548, 549, 550, 551, 552, 553, 554, 555, 556, 557, 558, 559, 560, 561, 562, 563, 564, 565, 566, 567, 568, 569, 570, 571, 572, 573, 574, 575, 576, 577, 578, 579, 580, 581, 582, 583, 584, 585, 586, 587, 588, 589, 590, 591, 592, 593, 594, 595, 596, 597, 598, 599, 600, 601, 602, 603, 604, 605, 606, 607, 608, 609, 610, 611, 612, 613, 614, 615, 616, 617, 618, 619, 620, 621, 622, 623, 624, 625, 626, 627, 628, 629, 630, 631, 632, 633, 634, 635, 636, 637, 638, 639, 640, 641, 642, 643, 644, 645, 646, 647, 648, 649, 650, 651, 652, 653, 654, 655, 656, 657, 658, 659, 660, 661, 662, 663, 664, 665, 666, 667, 668, 669, 670, 671, 672, 673, 674, 675, 676, 677, 678, 679, 680, 681, 682, 683, 684, 685, 686, 687, 688, 689, 690, 691, 692, 693, 694, 695, 696, 697, 698, 699, 700, 701, 702, 703, 704, 705, 706, 707, 708, 709, 710, 711, 712, 713, 714, 715, 716, 717, 718, 719, 720, 721, 722, 723, 724, 725, 726, 727, 728, 729, 730, 731, 732, 733, 734, 735, 736, 737, 738, 739, 740, 741, 742, 743, 744, 745, 746, 747, 748, 749, 750, 751, 752, 753, 754, 755, 756, 757, 758, 759, 760, 761, 762, 763, 764, 765, 766, 767, 768, 769, 770, 771, 772, 773, 774, 775, 776, 777, 778, 779, 780, 781, 782, 783, 784, 785, 786, 787, 788, 789, 790, 791, 792, 793, 794, 795, 796, 797, 798, 799, 800, 801, 802, 803, 804, 805, 806, 807, 808, 809, 810, 811, 812, 813, 814, 815, 816, 817, 818, 819, 820, 821, 822, 823, 824, 825, 826, 827, 828, 829, 830, 831, 832, 833, 834, 835, 836, 837, 838, 839, 840, 841, 842, 843, 844, 845, 846, 847, 848, 849, 850, 851, 852, 853, 854, 855, 856, 857, 858, 859, 860, 861, 862, 863, 864, 865, 866, 867, 868, 869, 870, 871, 872, 873, 874, 875, 876, 877, 878, 879, 880, 881, 882, 883, 884, 885, 886, 887, 888, 889, 890, 891, 892, 893, 894, 895, 896, 897, 898, 899, 900, 901, 902, 903, 904, 905, 906, 907, 908, 909, 910, 911, 912, 913, 914, 915, 916, 917, 918, 919, 920, 921, 922, 923, 924, 925, 926, 927, 928, 929, 930, 931, 932, 933, 934, 935, 936, 937, 938, 939, 940, 941, 942, 943, 944, 945, 946, 947, 948, 949, 950, 951, 952, 953, 954, 955, 956, 957, 958, 959, 960, 961, 962, 963, 964, 965, 966, 967, 968, 969, 970, 971, 972, 973, 974, 975, 976, 977, 978, 979, 980, 981, 982, 983, 984, 985, 986, 987, 988, 989, 990, 991, 992, 993, 994, 995, 996, 997, 998, 999, 1000, 1001, 1002, 1003, 1004, 1005, 1006, 1007, 1008, 1009, 1010, 1011, 1012, 1013, 1014, 1015, 1016, 1017, 1018, 1019, 1020, 1021, 1022, 1023, 1024, 1025, 1026, 1027, 1028, 1029, 1030, 1031, 1032, 1033, 1034, 1035, 1036, 1037, 1038, 1039, 1040, 1041, 1042, 1043, 1044, 1045, 1046, 1047, 1048, 1049, 1050, 1051, 1052, 1053, 1054, 1055, 1056, 1057, 1058, 1059, 1060, 1061, 1062, 1063, 1064, 1065, 1066, 1067, 1068, 1069, 1070, 1071, 1072, 1073, 1074, 1075, 1076, 1077, 1078, 1079, 1080, 1081, 1082, 1083, 1084, 1085, 1086, 1087, 1088, 1089, 1090, 1091, 1092, 1093, 1094, 1095, 1096, 1097, 1098, 1099, 1100, 1101, 1102, 1103, 1104, 1105, 1106, 1107, 1108, 1109, 1110, 1111, 1112, 1113, 1114, 1115, 1116, 1117, 1118, 1119, 1120, 1121, 1122, 1123, 1124, 1125, 1126, 1127, 1128, 1129, 1130, 1131, 1132, 1133, 1134, 1135, 1136, 1137, 1138, 1139, 1140, 1141, 1142, 1143, 1144, 1145, 1146, 1147, 1148, 1149, 1150, 1151, 1152, 1153, 1154, 1155, 1156, 1157, 1158, 1159, 1160, 1161, 1162, 1163, 1164, 1165, 1166, 1167, 1168, 1169, 1170, 1171, 1172, 1173, 1174, 1175, 1176, 1177, 1178, 1179, 1180, 1181, 1182, 1183, 1184, 1185, 1186, 1187, 1188, 1189, 1190, 1191, 1192, 1193, 1194, 1195, 1196, 1197, 1198, 1199, 1200, 1201, 1202, 1203, 1206, 1207, 1208, 1209, 1210, 1211, 1212, 1213, 1214, 1215, 1216, 1217, 1218, 1219, 1220, 1221, 1222, 1223, 1224, 1225, 1226, 1227, 1228, 1229, 1230, 1231, 1232, 1233, 1234, 1235, 1236, 1237, 1238, 1239, 1240, 1241, 1242, 1243, 1244, 1245, 1246, 1247, 1248, 1249, 1250, 1251, 1252, 1253, 1254, 1255, 1256, 1257, 1258, 1259, 1260, 1261, 1262, 1263, 1264, 1265, 1266, 1267, 1268, 1269, 1270, 1271, 1272, 1273, 1274, 1275, 1276, 1277, 1278, 1279, 1280, 1281, 1282, 1283, 1284, 1285, 1286, 1287, 1288, 1289, 1290, 1291, 1292, 1293, 1294, 1295, 1296, 1297, 1298, 1299, 1300, 1301, 1302, 1303, 1304, 1305, 1306, 1307, 1308, 1309, 1310, 1311, 1312, 1313, 1314, 1315, 1316, 1317, 1318, 1319, 1320, 1321, 1322, 1323, 1324, 1325, 1326, 1327, 1328, 1329, 1330, 1331, 1332, 1333, 1334, 1335, 1336, 1337, 1338, 1339, 1340, 1343, 1344, 1345, 1346, 1347, 1348, 1349, 1350, 1351, 1352, 1353, 1354, 1355, 1356, 1357, 1358, 1359, 1360, 1361, 1362, 1363, 1364, 1365, 1366, 1367, 1368, 1369, 1370, 1371, 1372, 1373, 1374, 1375, 1376, 1377, 1378, 1379, 1380, 1381, 1382, 1383, 1384, 1385, 1386, 1387, 1388, 1389, 1390, 1391, 1392, 1393, 1394, 1395, 1396, 1397, 1398, 1399, 1400, 1401, 1404, 1405, 1406, 1407, 1408, 1409, 1410, 1411, 1412, 1413, 1414, 1415, 1416, 1417, 1418, 1419, 1420, 1421, 1422, 1423, 1424, 1425, 1426, 1427, 1428, 1429, 1430, 1431, 1432, 1433, 1434, 1435, 1436, 1437, 1438, 1439, 1440, 1441, 1442, 1443, 1444, 1445, 1446, 1447, 1448, 1449, 1450, 1451, 1452, 1453, 1454, 1455, 1456, 1457, 1458, 1459, 1460, 1461, 1462, 1463, 1464, 1465, 1466, 1467, 1468, 1469, 1470, 1471, 1472, 1473, 1474, 1475, 1476, 1477, 1478, 1479, 1480, 1481, 1482, 1483, 1484, 1485, 1486, 1487, 1488, 1489, 1490, 1491, 1492, 1493, 1494, 1495, 1496, 1497, 1498, 1499, 1500, 1501, 1502, 1503, 1504, 1505, 1506, 1507, 1508, 1509, 1510, 1511, 1512, 1513, 1514, 1515, 1516, 1517, 1518, 1519, 1520, 1521, 1522, 1523, 1524, 1525, 1526, 1527, 1528, 1529, 1530, 1531, 1532, 1533, 1534, 1535, 1536, 1537, 1538, 1539, 1540, 1541, 1542, 1543, 1544, 1545, 1546, 1547, 1548, 1549, 1550, 1551, 1552, 1553, 1554, 1555, 1556, 1557, 1558, 1559, 1560, 1561, 1562, 1563, 1564, 1565, 1566, 1567, 1568, 1569, 1570, 1571, 1572, 1573, 1574, 1575, 1576, 1577, 1578, 1579, 1580, 1581, 1582, 1583, 1584, 1585, 1586, 1587, 1588, 1589, 1590, 1591}\n"
     ]
    }
   ],
   "source": [
    "print(flat_arrow)\n",
    "# print(flat_arrow_chr1)\n",
    "print(flat_td)\n",
    "# print(flat_td_chr1)"
   ]
  },
  {
   "cell_type": "code",
   "execution_count": 125,
   "id": "99c71e50",
   "metadata": {},
   "outputs": [
    {
     "name": "stdout",
     "output_type": "stream",
     "text": [
      "<class 'set'>\n",
      "<class 'set'>\n"
     ]
    }
   ],
   "source": [
    "print(type(flat_arrow))\n",
    "# print(type(flat_arrow_chr1))\n",
    "print(type(flat_td))\n",
    "# print(type(flat_td_chr1))"
   ]
  },
  {
   "cell_type": "code",
   "execution_count": 126,
   "id": "e7e8a810",
   "metadata": {},
   "outputs": [],
   "source": [
    "import matplotlib.pyplot"
   ]
  },
  {
   "cell_type": "code",
   "execution_count": 127,
   "id": "e126547a",
   "metadata": {},
   "outputs": [],
   "source": [
    "from matplotlib_venn import venn2, venn2_circles\n",
    "from matplotlib_venn import venn3, venn3_circles"
   ]
  },
  {
   "cell_type": "code",
   "execution_count": 50,
   "id": "f528fa49",
   "metadata": {},
   "outputs": [
    {
     "data": {
      "image/png": "[encoded data removed]",
      "text/plain": [
       "<Figure size 1440x216 with 1 Axes>"
      ]
     },
     "metadata": {},
     "output_type": "display_data"
    }
   ],
   "source": [
    "plt.rcParams[\"figure.figsize\"] = plt.rcParamsDefault[\"figure.figsize\"]\n",
    "venn2([flat_arrow, flat_td], set_labels=([\"arrowhead\"], [\"topdom\"]), alpha=0.75, set_colors=('c', 'tab:orange'))\n",
    "venn2_circles([flat_arrow, flat_td], lw=0.5)\n",
    "\n",
    "matplotlib.pyplot.savefig('Venn_Chr7_TopDom_ArrowHead.png')\n"
   ]
  },
  {
   "cell_type": "code",
   "execution_count": 25,
   "id": "c5911000",
   "metadata": {},
   "outputs": [
    {
     "name": "stdout",
     "output_type": "stream",
     "text": [
      "[3, 6, 4, 2, 10, 17, 6, 7, 11, 6, 8, 30, 11, 8, 34, 10, 20, 10, 14, 5, 6, 4, 8, 6, 7, 8, 5, 9, 8, 8, 11, 17, 7, 9, 23, 15, 5, 9, 6, 16, 9, 11, 6, 6, 7, 13, 8, 16, 15, 66, 0, 34, 35, 18, 28, 7, 45, 2, 27, 12, 14, 8, 6, 7, 12, 10, 9, 24, 28, 7, 7, 8, 12, 14, 12, 8, 10, 6, 6, 6, 7, 12, 9, 14, 7, 6, 6, 4, 8, 7, 31, 8, 12, 22, 9, 6, 8, 10, 15, 11, 14, 6, 9, 19, 15, 9, 8, 8, 7, 11, 18, 6, 5, 17, 7, 7, 6, 7, 4, 12, 5, 2, 56, 9, 19, 11, 7, 20, 11, 16, 11, 9]\n",
      "[0, 2, 1, 1, 3, 1, 1, 3, 8, 1, 1, 4, 1, 1, 3, 14, 2, 1, 4, 1, 1, 5, 2, 1, 1, 3, 2, 1, 1, 1, 1, 7, 1, 1, 3, 2, 3, 0, 4, 3, 4, 2, 2, 3, 1, 3, 9, 5, 3, 6, 3, 2, 3, 2, 4, 2, 4, 3, 1, 4, 1, 2, 2, 1, 1, 3, 2, 5, 1, 4, 3, 2, 1, 4, 0, 1, 1, 1, 3, 1, 5, 2, 1, 2, 1, 1, 1, 3, 2, 5, 4, 3, 4, 2, 3, 5, 2, 6, 2, 2, 1, 4, 3, 1, 1, 1, 4, 2, 2, 6, 3, 2, 1, 4, 2, 8, 4, 4, 1, 4, 1, 3, 1, 4, 1, 3, 2, 2, 7, 2, 1, 5, 2, 3, 2, 1, 3, 2, 6, 2, 3, 1, 8, 1, 2, 9, 4, 6, 2, 2, 1, 3, 2, 1, 3, 5, 3, 1, 3, 6, 2, 1, 2, 1, 4, 6, 7, 6, 2, 17, 4, 4, 3, 5, 2, 4, 2, 1, 1, 2, 7, 11, 1, 3, 2, 5, 2, 1, 1, 18, 5, 0, 3, 1, 7, 1, 9, 17, 8, 1, 2, 3, 1, 1, 3, 1, 2, 2, 1, 1, 2, 2, 1, 1, 2, 3, 1, 2, 1, 3, 8, 5, 2, 5, 2, 3, 11, 5, 6, 3, 2, 2, 1, 1, 1, 2, 2, 4, 2, 3, 2, 1, 3, 2, 4, 6, 5, 2, 2, 5, 1, 6, 3, 2, 2, 2, 4, 2, 2, 1, 2, 2, 1, 3, 1, 1, 4, 0, 1, 4, 2, 5, 4, 1, 3, 2, 1, 3, 1, 1, 1, 1, 2, 1, 2, 2, 2, 4, 3, 1, 7, 6, 2, 6, 2, 0, 5, 4, 1, 1, 1, 3, 1, 1, 2, 1, 4, 2, 6, 1, 1, 4, 4, 2, 4, 2, 2, 2, 1, 3, 3, 2, 1, 2, 3, 4, 3, 5, 3, 2, 2, 1, 2, 4, 2, 4, 3, 2, 3, 2, 1, 3, 1, 1, 6, 7, 6, 1, 1, 4, 2, 1, 4, 2, 1, 1, 7, 1, 2, 2, 2, 1, 6, 5, 1, 1, 1, 2, 3, 5, 3, 1, 2, 2, 1, 2, 3, 1, 0, 3, 1, 1, 1, 3, 1, 16, 4, 3, 1, 1, 6, 2, 2, 1, 1, 3, 1, 2, 1, 1, 2, 2, 1, 2, 2, 1, 2, 5, 1, 2, 3, 0, 5, 2, 1, 1, 2, 2, 2, 2, 5, 6, 1, 2, 1, 2, 4, 1, 1, 2, 1, 3, 2, 1, 1, 5, 0, 1, 2, 17, 20, 1, 5, 1, 1, 2, 1, 2, 7, 2, 4, 5, 1, 0, 11, 8, 1, 4]\n"
     ]
    }
   ],
   "source": [
    "##histogram?\n",
    "lengths_top = []\n",
    "for top_td_list in td_solution_list:\n",
    "    lengths_top.append(len(top_td_list))\n",
    "    \n",
    "print(lengths_top)\n",
    "\n",
    "lengths_arrow = []\n",
    "for arrow_td_list in arrowhead_solution_list:\n",
    "    lengths_arrow.append(len(arrow_td_list))\n",
    "    \n",
    "print(lengths_arrow)"
   ]
  },
  {
   "cell_type": "code",
   "execution_count": 26,
   "id": "a89a2fef",
   "metadata": {},
   "outputs": [],
   "source": [
    "import matplotlib.pyplot as plt"
   ]
  },
  {
   "cell_type": "code",
   "execution_count": 27,
   "id": "e35345a8",
   "metadata": {},
   "outputs": [],
   "source": [
    "\n",
    "plt.rcParams[\"figure.figsize\"] = plt.rcParamsDefault[\"figure.figsize\"]"
   ]
  },
  {
   "cell_type": "code",
   "execution_count": 28,
   "id": "8cd47d2a",
   "metadata": {},
   "outputs": [
    {
     "data": {
      "image/png": "[encoded data removed]",
      "text/plain": [
       "<Figure size 460.8x345.6 with 1 Axes>"
      ]
     },
     "metadata": {
      "needs_background": "light"
     },
     "output_type": "display_data"
    }
   ],
   "source": [
    "##\n",
    "plt.hist(lengths_top, density=True, bins=30) \n",
    "plt.autoscale(enable=True, axis='both') \n",
    "plt.xlabel('Lengths TopDom TDs')\n",
    "plt.ylabel('Frequency')\n",
    "plt.title(\"Histogram of Lengths of TopDom TDs\")\n",
    "plt.savefig(\"Hist_TopDom_Size.png\")\n"
   ]
  },
  {
   "cell_type": "code",
   "execution_count": 29,
   "id": "d555bea9",
   "metadata": {},
   "outputs": [
    {
     "data": {
      "image/png": "[encoded data removed]",
      "text/plain": [
       "<Figure size 460.8x345.6 with 1 Axes>"
      ]
     },
     "metadata": {
      "needs_background": "light"
     },
     "output_type": "display_data"
    }
   ],
   "source": [
    "##\n",
    "plt.rcParams[\"figure.figsize\"] = plt.rcParamsDefault[\"figure.figsize\"]\n",
    "plt.hist(lengths_arrow, density=True, bins=30) \n",
    "plt.xlabel('Lengths Arrowhead TDs')\n",
    "plt.ylabel('Frequency')\n",
    "plt.title(\"Histogram of Lengths of Arrowhead TDs\")\n",
    "plt.savefig(\"Hist_Arrowhead_Size.png\")"
   ]
  },
  {
   "cell_type": "code",
   "execution_count": 53,
   "id": "50956828",
   "metadata": {},
   "outputs": [
    {
     "data": {
      "image/png": "[encoded data removed]",
      "text/plain": [
       "<Figure size 460.8x345.6 with 1 Axes>"
      ]
     },
     "metadata": {
      "needs_background": "light"
     },
     "output_type": "display_data"
    }
   ],
   "source": [
    "## together\n",
    "plt.rcParams[\"figure.figsize\"] = plt.rcParamsDefault[\"figure.figsize\"]\n",
    "plt.hist(lengths_top, density=True, bins=30, label='TopDom', color='tab:orange') \n",
    "plt.hist(lengths_arrow, density=True, bins=30, label='Arrowhead') \n",
    "plt.xlabel('Lengths of TDs')\n",
    "plt.ylabel('Frequency')\n",
    "plt.legend()\n",
    "plt.title(\"Histogram of Lengths of Arrowhead and TopDom TDs\")\n",
    "plt.savefig(\"Hist_TopDom_Arrowhead_Size.png\")"
   ]
  },
  {
   "cell_type": "code",
   "execution_count": 48,
   "id": "410bb9ed",
   "metadata": {},
   "outputs": [],
   "source": []
  },
  {
   "cell_type": "code",
   "execution_count": 49,
   "id": "dbc8a2d7",
   "metadata": {},
   "outputs": [],
   "source": []
  },
  {
   "cell_type": "code",
   "execution_count": 50,
   "id": "63bff172",
   "metadata": {},
   "outputs": [],
   "source": []
  },
  {
   "cell_type": "code",
   "execution_count": 201,
   "id": "c6e7d8b4",
   "metadata": {},
   "outputs": [
    {
     "name": "stdout",
     "output_type": "stream",
     "text": [
      "[[16, 17, 18, 19, 20, 21, 22, 23], [24, 25, 26, 27], [32, 33, 34, 35, 36, 37, 38, 39, 40, 41, 42, 43, 44, 45], [48, 49, 50, 51], [53, 54, 55, 56, 57], [76, 77, 78, 79, 80, 81, 82], [84, 85, 86, 87], [110, 111, 112, 113], [152, 153, 154, 155, 156, 157, 158, 159, 160], [153, 154, 155, 156, 157], [170, 171, 172, 173, 174, 175], [200, 201, 202, 203], [208, 209, 210, 211], [221, 222, 223, 224], [238, 239, 240, 241, 242], [243, 244, 245, 246], [248, 249, 250, 251], [259, 260, 261, 262, 263], [267, 268, 269, 270, 271], [272, 273, 274, 275], [276, 277, 278, 279], [284, 285, 286, 287, 288], [289, 290, 291, 292, 293, 294], [302, 303, 304, 305], [308, 309, 310, 311], [312, 313, 314, 315, 316, 317], [328, 329, 330, 331], [332, 333, 334, 335, 336, 337, 338, 339], [334, 335, 336, 337], [343, 344, 345, 346], [352, 353, 354, 355], [360, 361, 362, 363], [372, 373, 374, 375, 376, 377, 378], [379, 380, 381, 382, 383], [390, 391, 392, 393, 394, 395], [410, 411, 412, 413, 414, 415, 416, 417], [420, 421, 422, 423, 424, 425, 426, 427, 428], [429, 430, 431, 432], [429, 430, 431, 432, 433, 434], [441, 442, 443, 444, 445], [446, 447, 448, 449, 450, 451], [460, 461, 462, 463], [464, 465, 466, 467, 468, 469], [464, 465, 466, 467, 468, 469, 470], [473, 474, 475, 476, 477, 478], [483, 484, 485, 486, 487, 488, 489, 490, 491, 492, 493, 494, 495, 496, 497, 498, 499], [495, 496, 497, 498], [501, 502, 503, 504], [548, 549, 550, 551, 552], [553, 554, 555, 556], [620, 621, 622, 623, 624, 625, 626], [633, 634, 635, 636, 637, 638, 639, 640, 641, 642, 643], [660, 661, 662, 663, 664], [668, 669, 670, 671, 672, 673, 674, 675, 676, 677, 678, 679, 680, 681, 682, 683, 684, 685], [689, 690, 691, 692, 693], [696, 697, 698, 699, 700, 701, 702], [703, 704, 705, 706, 707, 708, 709, 710, 711], [703, 704, 705, 706, 707, 708, 709, 710, 711, 712, 713, 714, 715, 716, 717, 718, 719], [704, 705, 706, 707, 708, 709, 710, 711], [803, 804, 805, 806, 807, 808, 809, 810], [811, 812, 813, 814, 815], [817, 818, 819, 820, 821], [836, 837, 838, 839, 840, 841, 842, 843, 844, 845, 846], [847, 848, 849, 850, 851], [855, 856, 857, 858, 859, 860], [874, 875, 876, 877], [903, 904, 905, 906], [908, 909, 910, 911, 912, 913], [916, 917, 918, 919, 920], [922, 923, 924, 925, 926], [922, 923, 924, 925, 926, 927], [935, 936, 937, 938], [981, 982, 983, 984], [985, 986, 987, 988], [991, 992, 993, 994, 995], [991, 992, 993, 994], [1015, 1016, 1017, 1018], [1031, 1032, 1033, 1034, 1035, 1036, 1037], [1039, 1040, 1041, 1042, 1043, 1044], [1046, 1047, 1048, 1049, 1050, 1051], [1053, 1054, 1055, 1056, 1057], [1053, 1054, 1055, 1056], [1064, 1065, 1066, 1067], [1068, 1069, 1070, 1071, 1072, 1073], [1078, 1079, 1080, 1081], [1107, 1108, 1109, 1110], [1122, 1123, 1124, 1125], [1174, 1175, 1176, 1177], [1199, 1200, 1201, 1202, 1203], [1208, 1209, 1210, 1211], [1213, 1214, 1215, 1216], [1247, 1248, 1249, 1250, 1251, 1252], [1257, 1258, 1259, 1260, 1261, 1262, 1263], [1258, 1259, 1260, 1261, 1262, 1263], [1273, 1274, 1275, 1276], [1285, 1286, 1287, 1288], [1290, 1291, 1292, 1293, 1294, 1295, 1296], [1306, 1307, 1308, 1309, 1310, 1311], [1307, 1308, 1309, 1310, 1311], [1324, 1325, 1326, 1327, 1328], [1357, 1358, 1359, 1360, 1361, 1362, 1363, 1364, 1365, 1366, 1367, 1368, 1369, 1370, 1371, 1372], [1373, 1374, 1375, 1376], [1378, 1379, 1380, 1381, 1382, 1383], [1407, 1408, 1409, 1410, 1411], [1415, 1416, 1417, 1418, 1419], [1482, 1483, 1484, 1485, 1486], [1482, 1483, 1484, 1485, 1486, 1487], [1489, 1490, 1491, 1492], [1510, 1511, 1512, 1513, 1514], [1526, 1527, 1528, 1529, 1530, 1531, 1532, 1533, 1534, 1535, 1536, 1537, 1538, 1539, 1540, 1541, 1542], [1526, 1527, 1528, 1529, 1530, 1531, 1532, 1533, 1534, 1535, 1536, 1537, 1538, 1539, 1540, 1541, 1542, 1543, 1544, 1545], [1547, 1548, 1549, 1550, 1551], [1556, 1557, 1558, 1559, 1560, 1561, 1562], [1567, 1568, 1569, 1570], [1567, 1568, 1569, 1570, 1571], [1572, 1573, 1574, 1575, 1576, 1577, 1578, 1579, 1580, 1581, 1582], [1573, 1574, 1575, 1576, 1577, 1578, 1579, 1580], [1584, 1585, 1586, 1587]]\n",
      "[16, 17, 18, 19, 20, 21, 22, 23, 24, 25, 26, 27, 32, 33, 34, 35, 36, 37, 38, 39, 40, 41, 42, 43, 44, 45, 48, 49, 50, 51, 53, 54, 55, 56, 57, 76, 77, 78, 79, 80, 81, 82, 84, 85, 86, 87, 110, 111, 112, 113, 152, 153, 154, 155, 156, 157, 158, 159, 160, 153, 154, 155, 156, 157, 170, 171, 172, 173, 174, 175, 200, 201, 202, 203, 208, 209, 210, 211, 221, 222, 223, 224, 238, 239, 240, 241, 242, 243, 244, 245, 246, 248, 249, 250, 251, 259, 260, 261, 262, 263, 267, 268, 269, 270, 271, 272, 273, 274, 275, 276, 277, 278, 279, 284, 285, 286, 287, 288, 289, 290, 291, 292, 293, 294, 302, 303, 304, 305, 308, 309, 310, 311, 312, 313, 314, 315, 316, 317, 328, 329, 330, 331, 332, 333, 334, 335, 336, 337, 338, 339, 334, 335, 336, 337, 343, 344, 345, 346, 352, 353, 354, 355, 360, 361, 362, 363, 372, 373, 374, 375, 376, 377, 378, 379, 380, 381, 382, 383, 390, 391, 392, 393, 394, 395, 410, 411, 412, 413, 414, 415, 416, 417, 420, 421, 422, 423, 424, 425, 426, 427, 428, 429, 430, 431, 432, 429, 430, 431, 432, 433, 434, 441, 442, 443, 444, 445, 446, 447, 448, 449, 450, 451, 460, 461, 462, 463, 464, 465, 466, 467, 468, 469, 464, 465, 466, 467, 468, 469, 470, 473, 474, 475, 476, 477, 478, 483, 484, 485, 486, 487, 488, 489, 490, 491, 492, 493, 494, 495, 496, 497, 498, 499, 495, 496, 497, 498, 501, 502, 503, 504, 548, 549, 550, 551, 552, 553, 554, 555, 556, 620, 621, 622, 623, 624, 625, 626, 633, 634, 635, 636, 637, 638, 639, 640, 641, 642, 643, 660, 661, 662, 663, 664, 668, 669, 670, 671, 672, 673, 674, 675, 676, 677, 678, 679, 680, 681, 682, 683, 684, 685, 689, 690, 691, 692, 693, 696, 697, 698, 699, 700, 701, 702, 703, 704, 705, 706, 707, 708, 709, 710, 711, 703, 704, 705, 706, 707, 708, 709, 710, 711, 712, 713, 714, 715, 716, 717, 718, 719, 704, 705, 706, 707, 708, 709, 710, 711, 803, 804, 805, 806, 807, 808, 809, 810, 811, 812, 813, 814, 815, 817, 818, 819, 820, 821, 836, 837, 838, 839, 840, 841, 842, 843, 844, 845, 846, 847, 848, 849, 850, 851, 855, 856, 857, 858, 859, 860, 874, 875, 876, 877, 903, 904, 905, 906, 908, 909, 910, 911, 912, 913, 916, 917, 918, 919, 920, 922, 923, 924, 925, 926, 922, 923, 924, 925, 926, 927, 935, 936, 937, 938, 981, 982, 983, 984, 985, 986, 987, 988, 991, 992, 993, 994, 995, 991, 992, 993, 994, 1015, 1016, 1017, 1018, 1031, 1032, 1033, 1034, 1035, 1036, 1037, 1039, 1040, 1041, 1042, 1043, 1044, 1046, 1047, 1048, 1049, 1050, 1051, 1053, 1054, 1055, 1056, 1057, 1053, 1054, 1055, 1056, 1064, 1065, 1066, 1067, 1068, 1069, 1070, 1071, 1072, 1073, 1078, 1079, 1080, 1081, 1107, 1108, 1109, 1110, 1122, 1123, 1124, 1125, 1174, 1175, 1176, 1177, 1199, 1200, 1201, 1202, 1203, 1208, 1209, 1210, 1211, 1213, 1214, 1215, 1216, 1247, 1248, 1249, 1250, 1251, 1252, 1257, 1258, 1259, 1260, 1261, 1262, 1263, 1258, 1259, 1260, 1261, 1262, 1263, 1273, 1274, 1275, 1276, 1285, 1286, 1287, 1288, 1290, 1291, 1292, 1293, 1294, 1295, 1296, 1306, 1307, 1308, 1309, 1310, 1311, 1307, 1308, 1309, 1310, 1311, 1324, 1325, 1326, 1327, 1328, 1357, 1358, 1359, 1360, 1361, 1362, 1363, 1364, 1365, 1366, 1367, 1368, 1369, 1370, 1371, 1372, 1373, 1374, 1375, 1376, 1378, 1379, 1380, 1381, 1382, 1383, 1407, 1408, 1409, 1410, 1411, 1415, 1416, 1417, 1418, 1419, 1482, 1483, 1484, 1485, 1486, 1482, 1483, 1484, 1485, 1486, 1487, 1489, 1490, 1491, 1492, 1510, 1511, 1512, 1513, 1514, 1526, 1527, 1528, 1529, 1530, 1531, 1532, 1533, 1534, 1535, 1536, 1537, 1538, 1539, 1540, 1541, 1542, 1526, 1527, 1528, 1529, 1530, 1531, 1532, 1533, 1534, 1535, 1536, 1537, 1538, 1539, 1540, 1541, 1542, 1543, 1544, 1545, 1547, 1548, 1549, 1550, 1551, 1556, 1557, 1558, 1559, 1560, 1561, 1562, 1567, 1568, 1569, 1570, 1567, 1568, 1569, 1570, 1571, 1572, 1573, 1574, 1575, 1576, 1577, 1578, 1579, 1580, 1581, 1582, 1573, 1574, 1575, 1576, 1577, 1578, 1579, 1580, 1584, 1585, 1586, 1587]\n"
     ]
    }
   ],
   "source": [
    "arrowhead_solution_list\n",
    "big_ah_sol = []\n",
    "for ahlist in arrowhead_solution_list:\n",
    "    if len(ahlist) > 3:\n",
    "        big_ah_sol.append(ahlist)\n",
    "        \n",
    "print(big_ah_sol)\n",
    "\n",
    "big_ah_sol_flat = [item for sub in big_ah_sol for item in sub]\n",
    "print(big_ah_sol_flat)"
   ]
  },
  {
   "cell_type": "code",
   "execution_count": 61,
   "id": "a037eecb",
   "metadata": {},
   "outputs": [
    {
     "ename": "ImportError",
     "evalue": "attempted relative import with no known parent package",
     "output_type": "error",
     "traceback": [
      "\u001b[0;31m---------------------------------------------------------------------------\u001b[0m",
      "\u001b[0;31mImportError\u001b[0m                               Traceback (most recent call last)",
      "\u001b[0;32m/var/folders/j0/_0vrqyzn1v1c7syr0d2x5cwr0000gn/T/ipykernel_24310/167774136.py\u001b[0m in \u001b[0;36m<module>\u001b[0;34m\u001b[0m\n\u001b[1;32m      2\u001b[0m \u001b[0msys\u001b[0m\u001b[0;34m.\u001b[0m\u001b[0mpath\u001b[0m\u001b[0;34m.\u001b[0m\u001b[0mappend\u001b[0m\u001b[0;34m(\u001b[0m\u001b[0;34m\"./code/preprocessing/\"\u001b[0m\u001b[0;34m)\u001b[0m\u001b[0;34m\u001b[0m\u001b[0;34m\u001b[0m\u001b[0m\n\u001b[1;32m      3\u001b[0m \u001b[0;34m\u001b[0m\u001b[0m\n\u001b[0;32m----> 4\u001b[0;31m \u001b[0;32mfrom\u001b[0m \u001b[0;34m.\u001b[0m\u001b[0;34m.\u001b[0m\u001b[0mcode\u001b[0m\u001b[0;34m.\u001b[0m\u001b[0mpreprocessing\u001b[0m\u001b[0;34m.\u001b[0m\u001b[0mvisualization\u001b[0m \u001b[0;32mimport\u001b[0m \u001b[0mhic_map_generation\u001b[0m\u001b[0;34m\u001b[0m\u001b[0;34m\u001b[0m\u001b[0m\n\u001b[0m",
      "\u001b[0;31mImportError\u001b[0m: attempted relative import with no known parent package"
     ]
    }
   ],
   "source": [
    "import sys\n",
    "sys.path.append(\"./code/preprocessing/\") \n",
    "\n",
    "from ..code.preprocessing.visualization import hic_map_generation "
   ]
  },
  {
   "cell_type": "code",
   "execution_count": 31,
   "id": "f43c323f",
   "metadata": {},
   "outputs": [
    {
     "name": "stdout",
     "output_type": "stream",
     "text": [
      "[[1. 0. 0. ... 0. 0. 0.]\n",
      " [0. 1. 0. ... 0. 0. 0.]\n",
      " [0. 0. 1. ... 0. 0. 0.]\n",
      " ...\n",
      " [0. 0. 0. ... 1. 0. 0.]\n",
      " [0. 0. 0. ... 0. 1. 0.]\n",
      " [0. 0. 0. ... 0. 0. 1.]]\n"
     ]
    }
   ],
   "source": [
    "# create adjacency matrix\n",
    "size = 1592\n",
    "mat_top = np.zeros([size,size])\n",
    "for value in flat_td:\n",
    "    mat_top[value, value] = 1\n",
    "    \n",
    "print(mat_top)"
   ]
  },
  {
   "cell_type": "code",
   "execution_count": 32,
   "id": "cac54fd6",
   "metadata": {},
   "outputs": [
    {
     "name": "stdout",
     "output_type": "stream",
     "text": [
      "[[0. 0. 0. ... 0. 0. 0.]\n",
      " [0. 0. 0. ... 0. 0. 0.]\n",
      " [0. 0. 0. ... 0. 0. 0.]\n",
      " ...\n",
      " [0. 0. 0. ... 0. 0. 0.]\n",
      " [0. 0. 0. ... 0. 0. 0.]\n",
      " [0. 0. 0. ... 0. 0. 0.]]\n"
     ]
    }
   ],
   "source": [
    "# create adjacency matrix\n",
    "size = 1592\n",
    "mat_arrow = np.zeros([size,size])\n",
    "for value in flat_arrow:\n",
    "    mat_arrow[value, value] = 1\n",
    "    \n",
    "print(mat_arrow)"
   ]
  },
  {
   "cell_type": "code",
   "execution_count": 33,
   "id": "3f2d689a",
   "metadata": {},
   "outputs": [
    {
     "data": {
      "image/png": "[encoded data removed]",
      "text/plain": [
       "<Figure size 2160x2160 with 1 Axes>"
      ]
     },
     "metadata": {
      "needs_background": "light"
     },
     "output_type": "display_data"
    },
    {
     "data": {
      "text/plain": [
       "<Figure size 460.8x345.6 with 0 Axes>"
      ]
     },
     "metadata": {},
     "output_type": "display_data"
    }
   ],
   "source": [
    "# adjacency matrix function\n",
    "\n",
    "plt.imshow(mat_top, cmap=\"Reds\")\n",
    "plt.title(\"HiC Matrix of \" + \"TopDom Chr7\")\n",
    "plt.xlabel(\"Genomic bins\")\n",
    "plt.ylabel(\"Genomic bins\")\n",
    "plt.gcf().set_size_inches(30, 30)\n",
    "plt.show()\n",
    "plt.savefig(\"HiC_Matrix_TopDom_Chr7.png\")"
   ]
  },
  {
   "cell_type": "code",
   "execution_count": 34,
   "id": "998f73eb",
   "metadata": {},
   "outputs": [
    {
     "data": {
      "image/png": "[encoded data removed]",
      "text/plain": [
       "<Figure size 2160x2160 with 1 Axes>"
      ]
     },
     "metadata": {
      "needs_background": "light"
     },
     "output_type": "display_data"
    },
    {
     "data": {
      "text/plain": [
       "<Figure size 460.8x345.6 with 0 Axes>"
      ]
     },
     "metadata": {},
     "output_type": "display_data"
    }
   ],
   "source": [
    "# adjacency matrix function\n",
    "\n",
    "plt.imshow(mat_arrow, cmap=\"Reds\")\n",
    "plt.title(\"HiC Matrix of \" + \"Arrowhead Chr7\")\n",
    "plt.xlabel(\"Genomic bins\")\n",
    "plt.ylabel(\"Genomic bins\")\n",
    "plt.gcf().set_size_inches(30, 30)\n",
    "plt.show()\n",
    "plt.savefig(\"HiC_Matrix_Arrowhead_Chr7.png\")"
   ]
  },
  {
   "cell_type": "code",
   "execution_count": 184,
   "id": "e89876f0",
   "metadata": {},
   "outputs": [
    {
     "name": "stdout",
     "output_type": "stream",
     "text": [
      "[25, 26, 27, 28, 236, 237, 384, 385, 386, 418, 419, 480, 481, 482, 483, 1204, 1205, 1341, 1342, 1402, 1403]\n",
      "[0, 1, 2, 3, 4, 5, 15, 58, 59, 60, 61, 66, 67, 68, 69, 71, 73, 74, 75, 83, 88, 89, 90, 91, 92, 93, 94, 95, 96, 97, 98, 99, 100, 101, 102, 103, 104, 105, 109, 114, 115, 116, 117, 118, 119, 120, 124, 125, 127, 128, 129, 130, 131, 132, 133, 134, 135, 136, 137, 138, 139, 140, 141, 142, 143, 144, 145, 146, 147, 151, 161, 162, 163, 164, 165, 166, 167, 168, 169, 176, 177, 180, 181, 182, 183, 187, 188, 189, 190, 191, 192, 193, 194, 195, 196, 197, 198, 199, 204, 205, 206, 207, 212, 216, 217, 218, 220, 225, 228, 247, 252, 256, 257, 258, 280, 281, 295, 296, 297, 298, 299, 301, 306, 321, 324, 326, 327, 340, 341, 342, 348, 349, 350, 351, 356, 365, 366, 367, 368, 387, 398, 402, 403, 404, 405, 406, 407, 408, 409, 439, 453, 454, 455, 456, 457, 458, 459, 471, 472, 479, 482, 500, 508, 509, 510, 511, 512, 513, 514, 515, 516, 517, 518, 519, 520, 521, 522, 523, 524, 525, 526, 527, 528, 529, 530, 531, 532, 533, 534, 535, 536, 537, 538, 539, 540, 541, 542, 543, 544, 545, 546, 547, 557, 558, 562, 563, 564, 565, 566, 567, 568, 569, 570, 571, 572, 573, 574, 575, 576, 577, 578, 579, 580, 581, 582, 583, 584, 585, 586, 587, 588, 589, 590, 591, 592, 593, 594, 595, 596, 597, 598, 599, 600, 601, 602, 603, 604, 605, 606, 607, 608, 609, 610, 611, 612, 613, 614, 615, 616, 617, 618, 619, 627, 628, 629, 630, 631, 632, 644, 645, 646, 647, 648, 649, 650, 651, 652, 654, 655, 659, 665, 666, 667, 686, 687, 688, 695, 720, 721, 722, 723, 724, 725, 726, 727, 729, 740, 741, 742, 743, 744, 745, 746, 747, 748, 749, 750, 751, 752, 759, 760, 761, 762, 763, 764, 765, 766, 767, 768, 772, 777, 778, 779, 780, 781, 782, 783, 784, 785, 786, 787, 788, 789, 790, 791, 792, 793, 794, 795, 796, 800, 801, 802, 816, 824, 825, 826, 827, 828, 829, 833, 834, 835, 852, 853, 854, 861, 865, 873, 880, 881, 885, 886, 887, 888, 889, 890, 891, 892, 893, 894, 895, 896, 897, 901, 902, 907, 914, 915, 921, 929, 930, 931, 932, 933, 934, 939, 940, 943, 944, 945, 946, 947, 948, 951, 955, 956, 957, 960, 961, 962, 963, 964, 965, 966, 968, 969, 970, 971, 972, 973, 974, 975, 980, 989, 990, 1000, 1005, 1006, 1009, 1012, 1019, 1020, 1021, 1022, 1023, 1027, 1028, 1030, 1038, 1045, 1052, 1061, 1075, 1076, 1082, 1083, 1084, 1085, 1086, 1087, 1088, 1089, 1090, 1091, 1092, 1093, 1094, 1095, 1096, 1097, 1098, 1099, 1100, 1101, 1102, 1103, 1104, 1105, 1106, 1111, 1112, 1113, 1114, 1115, 1116, 1117, 1120, 1121, 1126, 1127, 1128, 1129, 1130, 1131, 1132, 1133, 1134, 1135, 1136, 1137, 1138, 1139, 1140, 1141, 1142, 1145, 1146, 1147, 1148, 1149, 1150, 1151, 1152, 1153, 1154, 1155, 1165, 1170, 1178, 1179, 1180, 1181, 1182, 1183, 1184, 1185, 1186, 1187, 1188, 1189, 1190, 1191, 1192, 1193, 1194, 1195, 1207, 1212, 1217, 1218, 1222, 1223, 1224, 1225, 1226, 1227, 1230, 1231, 1236, 1237, 1239, 1240, 1241, 1242, 1243, 1244, 1245, 1246, 1253, 1254, 1255, 1256, 1264, 1265, 1266, 1267, 1268, 1269, 1271, 1279, 1280, 1281, 1282, 1283, 1284, 1299, 1300, 1301, 1302, 1303, 1304, 1305, 1314, 1315, 1316, 1317, 1318, 1319, 1323, 1331, 1332, 1333, 1334, 1335, 1336, 1337, 1340, 1346, 1348, 1349, 1353, 1384, 1385, 1393, 1394, 1397, 1400, 1401, 1420, 1421, 1422, 1425, 1431, 1432, 1433, 1434, 1435, 1436, 1437, 1438, 1439, 1440, 1441, 1442, 1443, 1446, 1447, 1448, 1449, 1450, 1451, 1452, 1453, 1454, 1455, 1456, 1457, 1458, 1459, 1460, 1461, 1462, 1463, 1464, 1465, 1466, 1467, 1468, 1469, 1470, 1471, 1472, 1473, 1474, 1475, 1476, 1477, 1478, 1479, 1495, 1496, 1497, 1498, 1499, 1501, 1508, 1509, 1515, 1516, 1517, 1518, 1519, 1521, 1524, 1525, 1563, 1566, 1583, 1588, 1589, 1590, 1591]\n"
     ]
    }
   ],
   "source": [
    "# set up the figure\n",
    "list_arrow = list(flat_arrow)\n",
    "list_top = list(flat_td)\n",
    "# print(list_top)\n",
    "# a boundary\n",
    "full=list(range(0, 1592))\n",
    "boundary = [x for x in full if x not in list_top]\n",
    "\n",
    "print(boundary)\n",
    "\n",
    "boundary_arrow = [x for x in full if x not in list_arrow]\n",
    "print(boundary_arrow)"
   ]
  },
  {
   "cell_type": "code",
   "execution_count": 187,
   "id": "fb53a83c",
   "metadata": {},
   "outputs": [
    {
     "name": "stdout",
     "output_type": "stream",
     "text": [
      "[2, 8, 12, 14, 24, 45, 51, 58, 69, 75, 83, 113, 124, 132, 166, 176, 196, 206, 220, 225, 231, 235, 245, 251, 258, 266, 271, 280, 288, 296, 307, 324, 331, 340, 363, 378, 383, 395, 401, 417, 428, 439, 445, 451, 458, 471, 479, 499, 514, 580, 614, 649, 667, 695, 702, 747, 749, 776, 788, 802, 810, 816, 823, 835, 845, 854, 878, 906, 913, 920, 928, 940, 954, 966, 974, 984, 990, 996, 1002, 1009, 1021, 1030, 1044, 1051, 1057, 1063, 1067, 1075, 1082, 1113, 1121, 1133, 1155, 1164, 1170, 1178, 1188, 1203, 1216, 1230, 1236, 1245, 1264, 1279, 1288, 1296, 1304, 1311, 1322, 1340, 1348, 1353, 1370, 1377, 1384, 1390, 1397, 1401, 1415, 1420, 1422, 1478, 1487, 1506, 1517, 1524, 1544, 1555, 1571, 1582, 1591]\n",
      "<class 'list'>\n",
      "[7, 8, 9, 11, 10, 11, 14, 23, 21, 23, 27, 26, 28, 31, 45, 47, 47, 51, 50, 52, 57, 54, 54, 55, 57, 63, 64, 65, 70, 72, 82, 76, 77, 79, 79, 82, 87, 108, 113, 111, 113, 123, 126, 150, 160, 157, 172, 175, 175, 179, 186, 201, 203, 203, 211, 215, 219, 224, 224, 227, 230, 231, 232, 235, 237, 242, 243, 246, 245, 245, 246, 251, 249, 249, 250, 255, 253, 263, 260, 261, 263, 262, 263, 264, 266, 268, 271, 275, 275, 279, 283, 286, 288, 288, 294, 291, 293, 300, 305, 304, 302, 303, 307, 311, 309, 311, 317, 320, 323, 325, 331, 330, 339, 337, 346, 347, 355, 357, 359, 358, 363, 364, 371, 371, 373, 378, 378, 378, 383, 380, 383, 382, 383, 386, 389, 395, 397, 401, 400, 417, 418, 419, 428, 432, 434, 431, 434, 435, 438, 437, 438, 442, 445, 445, 444, 448, 451, 447, 449, 451, 452, 463, 469, 470, 478, 481, 499, 498, 504, 507, 552, 554, 556, 556, 556, 559, 561, 626, 643, 653, 658, 658, 664, 664, 663, 664, 685, 693, 693, 694, 702, 702, 711, 719, 711, 728, 731, 734, 732, 733, 737, 735, 737, 739, 753, 754, 756, 758, 758, 769, 771, 775, 773, 775, 776, 799, 810, 815, 815, 821, 823, 832, 846, 851, 860, 864, 864, 867, 866, 867, 868, 870, 872, 877, 879, 884, 883, 898, 900, 900, 906, 913, 920, 919, 919, 926, 922, 927, 924, 926, 928, 936, 938, 942, 950, 952, 954, 959, 967, 978, 977, 979, 984, 985, 988, 987, 995, 994, 991, 994, 996, 996, 999, 997, 999, 1001, 1002, 1004, 1004, 1008, 1011, 1014, 1018, 1026, 1029, 1037, 1044, 1047, 1051, 1051, 1057, 1056, 1054, 1057, 1058, 1060, 1059, 1062, 1063, 1063, 1067, 1065, 1073, 1074, 1077, 1081, 1110, 1119, 1125, 1125, 1144, 1157, 1158, 1161, 1164, 1167, 1167, 1169, 1173, 1177, 1198, 1203, 1201, 1203, 1205, 1206, 1209, 1211, 1211, 1216, 1221, 1229, 1234, 1234, 1233, 1235, 1234, 1238, 1252, 1263, 1263, 1270, 1272, 1276, 1278, 1278, 1288, 1290, 1289, 1290, 1296, 1291, 1294, 1296, 1298, 1306, 1311, 1311, 1308, 1309, 1310, 1313, 1322, 1328, 1327, 1328, 1330, 1339, 1341, 1342, 1345, 1347, 1352, 1351, 1352, 1352, 1356, 1356, 1372, 1376, 1375, 1376, 1377, 1383, 1380, 1382, 1386, 1387, 1389, 1388, 1389, 1389, 1390, 1392, 1396, 1398, 1399, 1403, 1404, 1406, 1411, 1408, 1413, 1414, 1419, 1424, 1424, 1426, 1428, 1430, 1445, 1481, 1486, 1487, 1483, 1486, 1487, 1489, 1492, 1490, 1492, 1494, 1500, 1504, 1506, 1506, 1507, 1514, 1520, 1523, 1542, 1545, 1546, 1551, 1547, 1550, 1553, 1552, 1555, 1562, 1565, 1570, 1571, 1568, 1582, 1580, 1584, 1587]\n"
     ]
    }
   ],
   "source": [
    "boundary_v2 = []\n",
    "for list in td_solution_list:\n",
    "    boundary_v2.append(list[-1:])\n",
    "boundary_v2_flat = [item for sublist in boundary_v2 for item in sublist]\n",
    "\n",
    "boundary_v2_arrow = []\n",
    "for list in arrowhead_solution_list:\n",
    "    boundary_v2_arrow.append(list[-1:])\n",
    "boundary_v2_arrow_flat = [item for sublist in boundary_v2_arrow for item in sublist]\n",
    "\n",
    "print(boundary_v2_flat)\n",
    "print(type(boundary_v2_flat))\n",
    "print(boundary_v2_arrow_flat)"
   ]
  },
  {
   "cell_type": "code",
   "execution_count": 52,
   "id": "af0bf594",
   "metadata": {},
   "outputs": [],
   "source": [
    "plt.rcParams[\"figure.figsize\"] = plt.rcParamsDefault[\"figure.figsize\"]"
   ]
  },
  {
   "cell_type": "code",
   "execution_count": 203,
   "id": "5af2665d",
   "metadata": {},
   "outputs": [
    {
     "data": {
      "image/png": "[encoded data removed]",
      "text/plain": [
       "<Figure size 1440x216 with 1 Axes>"
      ]
     },
     "metadata": {
      "needs_background": "light"
     },
     "output_type": "display_data"
    }
   ],
   "source": [
    "\n",
    "plt.scatter(list_arrow, np.zeros_like(list_arrow), label=\"Arrowhead\", marker=\"|\")\n",
    "# plt.legend({\"Arrowhead\"})\n",
    "plt.scatter(list_top, np.ones_like(list_top), label=\"TopDom\", marker=\"|\")\n",
    "plt.scatter(boundary_v2_flat, np.ones_like(boundary_v2_flat), label= \"TopDom boundaries\", marker=\"|\", color= \"w\")\n",
    "plt.scatter(boundary_v2_arrow_flat, np.zeros_like(boundary_v2_arrow_flat), \n",
    "            label= \"Arrowhead boundaries\", marker =\"|\", color = \"w\")\n",
    "plt.scatter(big_ah_sol_flat, np.ones_like(big_ah_sol_flat)*0.2, label = \"Arrowhead Large TDs\", \n",
    "            marker = \"|\", color = \"b\")\n",
    "plt.legend()\n",
    "plt.rcParams[\"figure.figsize\"] = (20,3)\n",
    "\n",
    "plt.xlabel(\"Genomic bins\")\n",
    "plt.ylabel(\"Methods\")\n",
    "plt.yticks([])\n",
    "plt.show\n",
    "plt.savefig(\"Line_Arrowhead_TopDom_TDs.png\")"
   ]
  },
  {
   "cell_type": "code",
   "execution_count": null,
   "id": "532ac73b",
   "metadata": {},
   "outputs": [],
   "source": []
  }
 ],
 "metadata": {
  "kernelspec": {
   "display_name": "Python 3 (ipykernel)",
   "language": "python",
   "name": "python3"
  },
  "language_info": {
   "codemirror_mode": {
    "name": "ipython",
    "version": 3
   },
   "file_extension": ".py",
   "mimetype": "text/x-python",
   "name": "python",
   "nbconvert_exporter": "python",
   "pygments_lexer": "ipython3",
   "version": "3.8.12"
  }
 },
 "nbformat": 4,
 "nbformat_minor": 5
}
