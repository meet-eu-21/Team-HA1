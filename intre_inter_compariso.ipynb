{
 "cells": [
  {
   "cell_type": "code",
   "execution_count": 3,
   "id": "9ae6a5ae",
   "metadata": {},
   "outputs": [],
   "source": [
    "import pandas as pd\n",
    "import numpy as np\n",
    "import networkx as nx\n",
    "import matplotlib.pyplot as plt\n",
    "from pathlib import Path\n",
    "from gcMapExplorer import lib as gmlib\n",
    "import gzip\n",
    "from os import path\n",
    "\n",
    "import warnings\n",
    "warnings.filterwarnings(\"ignore\") \n",
    "import logging, sys\n",
    "logging.disable(sys.maxsize)\n"
   ]
  },
  {
   "cell_type": "code",
   "execution_count": 10,
   "id": "0286c1c0",
   "metadata": {},
   "outputs": [],
   "source": [
    "data_prefix = '/data/analysis/ag-reils/ag-reils-shared/Hi-C/'"
   ]
  },
  {
   "cell_type": "code",
   "execution_count": 6,
   "id": "8f501a73",
   "metadata": {},
   "outputs": [],
   "source": [
    "chromosome_list = [ 1,  2,  3,  4,  5,  6,  7,  8,  9, 10, 11, 12, 13, 14, 15, 16, 17,\n",
    "       18, 19, 20, 21, 22, 'X']\n",
    "chromosome_names = [\"chr10\", \"chr11\", \"chr12\", \"chr13\", \"chr14\", \"chr15\", \"chr16\", \"chr17\", \"chr18\", \"chr19\", \"chr1\", \"chr20\", \"chr21\", \"chr22\", \"chr2\", \"chr3\", \"chr4\", \"chr5\", \"chr6\", \"chr7\", \"chr8\", \"chr9\"]"
   ]
  },
  {
   "cell_type": "code",
   "execution_count": 361,
   "id": "c2faacdf",
   "metadata": {},
   "outputs": [],
   "source": [
    "chromosome_name = 'chr7'"
   ]
  },
  {
   "cell_type": "code",
   "execution_count": 392,
   "id": "3793b629",
   "metadata": {
    "scrolled": true
   },
   "outputs": [
    {
     "name": "stdout",
     "output_type": "stream",
     "text": [
      "1\n",
      "  \n",
      "2\n",
      "  \n",
      "3\n",
      "  \n",
      "4\n",
      "  \n",
      "5\n",
      "  \n",
      "6\n",
      "  \n",
      "7\n",
      "  \n",
      "8\n",
      "  \n",
      "9\n",
      "  \n",
      "10\n",
      "  \n",
      "11\n",
      "  \n",
      "12\n",
      "  \n",
      "13\n",
      "  \n",
      "14\n",
      "  \n",
      "15\n",
      "  \n",
      "16\n",
      "  \n",
      "17\n",
      "  \n",
      "18\n",
      "  \n",
      "19\n",
      "  \n",
      "20\n",
      "  \n",
      "21\n",
      "  \n",
      "22\n",
      "  \n",
      "X\n",
      "  \n"
     ]
    }
   ],
   "source": [
    "for name in chromosome_list:\n",
    "    print(name)\n",
    "    cooReader = gmlib.importer.CooMatrixHandler(f'/data/analysis/ag-reils/ag-reils-shared/Hi-C/meeteu/www.lcqb.upmc.fr/meetu/dataforstudent/HiC/GM12878/100kb_resolution_intrachromosomal/chr{name}_100kb.RAWobserved', mapType = 'intra')\n",
    "    cooReader.save_ccmaps(f'./cmap_files/intra/cmap_{name}.ccmap', xlabels=f'{name}', ylabels=f'{name}')\n",
    "    del cooReader"
   ]
  },
  {
   "cell_type": "code",
   "execution_count": 4,
   "id": "df673bc9",
   "metadata": {},
   "outputs": [
    {
     "name": "stdout",
     "output_type": "stream",
     "text": [
      "1\n",
      "  \n",
      "2\n",
      "  \n",
      "3\n",
      "  \n",
      "4\n",
      "  \n",
      "5\n",
      "  \n",
      "6\n",
      "  \n"
     ]
    }
   ],
   "source": [
    "chromosome_names_exp = [ 1,  2,  3,  4,  5,  6]\n",
    "for chromosome_name in chromosome_names_exp:\n",
    "    print(chromosome_name)\n",
    "    cooReader = gmlib.importer.CooMatrixHandler(f'/data/analysis/ag-reils/ag-reils-shared/Hi-C/meeteu/www.lcqb.upmc.fr/meetu/dataforstudent/HiC/GM12878/100kb_resolution_interchromosomal/chr{chromosome_name}_7_100kb.RAWobserved', mapType = 'inter')\n",
    "    cooReader.save_ccmaps(f'./cmap_files/inter/chr7/cmap_chr7_with_{chromosome_name}.ccmap', xlabels=f'{chromosome_name}', ylabels=f'chr7')\n",
    "    del cooReader\n"
   ]
  },
  {
   "cell_type": "code",
   "execution_count": 395,
   "id": "84db321e",
   "metadata": {
    "scrolled": true
   },
   "outputs": [
    {
     "name": "stdout",
     "output_type": "stream",
     "text": [
      "1\n",
      "2\n",
      "3\n",
      "4\n",
      "5\n",
      "6\n",
      "7\n",
      "8\n",
      "  \n",
      "9\n",
      "  \n",
      "10\n",
      "  \n",
      "11\n",
      "  \n",
      "12\n",
      "  \n",
      "13\n",
      "  \n",
      "14\n",
      "  \n",
      "15\n",
      "  \n",
      "16\n",
      "  \n",
      "17\n",
      "  \n",
      "18\n",
      "  \n",
      "19\n",
      "  \n",
      "20\n",
      "  \n",
      "21\n",
      "  \n",
      "22\n",
      "  \n",
      "X\n",
      "  \n"
     ]
    }
   ],
   "source": [
    "# Dictionary with the path to each chromosom\n",
    "# for chromosome_name in chromosome_names:\n",
    "chromosome_name = 'chr7'\n",
    "for name in chromosome_list:\n",
    "    print(name)\n",
    "    if path.exists(f'/data/analysis/ag-reils/ag-reils-shared/Hi-C/meeteu/www.lcqb.upmc.fr/meetu/dataforstudent/HiC/GM12878/100kb_resolution_interchromosomal/{chromosome_name}_{name}_100kb.RAWobserved'):\n",
    "        cooReader = gmlib.importer.CooMatrixHandler(f'/data/analysis/ag-reils/ag-reils-shared/Hi-C/meeteu/www.lcqb.upmc.fr/meetu/dataforstudent/HiC/GM12878/100kb_resolution_interchromosomal/{chromosome_name}_{name}_100kb.RAWobserved', mapType = 'inter')\n",
    "        cooReader.save_ccmaps(f'./cmap_files/inter/{chromosome_name}/cmap_{chromosome_name}_with_{name}.ccmap', xlabels=f'{chromosome_name}', ylabels=f'{name}')\n"
   ]
  },
  {
   "cell_type": "code",
   "execution_count": 87,
   "id": "44ca1e95",
   "metadata": {},
   "outputs": [],
   "source": [
    "avg_row_inter = []\n",
    "avg_row_inter.append(['hi', chromosome_list])"
   ]
  },
  {
   "cell_type": "code",
   "execution_count": 162,
   "id": "0058fb17",
   "metadata": {
    "scrolled": true
   },
   "outputs": [],
   "source": [
    "def remove_self_interaction(A):\n",
    "    A = np.asarray(A, dtype=int)\n",
    "    m = A.shape[0]\n",
    "    strided = np.lib.stride_tricks.as_strided\n",
    "    s0,s1 = A.strides\n",
    "    return strided(A.ravel()[1:], shape=(m-1,m), strides=(s0+s1,s1)).reshape(m,-1)\n",
    "\n",
    "ccmap_intra = gmlib.ccmap.load_ccmap(f'./cmap_files/intra/cmap_7.ccmap')\n",
    "ccmap_intra.make_readable()\n",
    "\n",
    "distribution_avg_row_intra = []\n",
    "distribution_max_row_intra = []\n",
    "rmvd_self = remove_self_interaction(ccmap_intra.matrix)\n",
    "for row in rmvd_self:\n",
    "    distribution_avg_row_intra.append(sum(row)/len(row))\n",
    "    distribution_max_row_intra.append(max(row))\n",
    "\n",
    "\n",
    "for name in chromosome_list:\n",
    "    if path.exists(f'./cmap_files/inter/chr7/cmap_chr7_with_{name}.ccmap'):\n",
    "        ccmap = gmlib.ccmap.load_ccmap(f'./cmap_files/inter/chr7/cmap_chr7_with_{name}.ccmap')\n",
    "        ccmap.make_readable()\n",
    "        \n",
    "        distribution_avg_row_inter = []\n",
    "        distribution_max_row_inter = []\n",
    "        \n",
    "        if name == 'X' or name > 7:\n",
    "            for row in ccmap.matrix:\n",
    "                distribution_avg_row_inter.append(sum(row)/len(row))\n",
    "                distribution_max_row_inter.append(max(row))\n",
    "        else:\n",
    "            for row in ccmap.matrix.T:\n",
    "                distribution_avg_row_inter.append(sum(row)/len(row))\n",
    "                distribution_max_row_inter.append(max(row))\n",
    "\n",
    "        if name == 1:\n",
    "            avg_row_inter = pd.DataFrame({name : distribution_avg_row_inter})\n",
    "            max_row_inter = pd.DataFrame({name : distribution_max_row_inter})\n",
    "        else:\n",
    "            avg_row_inter[name] = distribution_avg_row_inter\n",
    "            max_row_inter[name] = distribution_max_row_inter\n"
   ]
  },
  {
   "cell_type": "code",
   "execution_count": 163,
   "id": "8a2f30e6",
   "metadata": {},
   "outputs": [],
   "source": [
    "data = zip(distribution_max_row_intra, distribution_avg_row_intra)"
   ]
  },
  {
   "cell_type": "code",
   "execution_count": 164,
   "id": "4ddb870b",
   "metadata": {},
   "outputs": [],
   "source": [
    "data = np.stack((distribution_max_row_intra, distribution_avg_row_intra), axis=-1)"
   ]
  },
  {
   "cell_type": "code",
   "execution_count": 167,
   "id": "d7ef1dce",
   "metadata": {
    "scrolled": true
   },
   "outputs": [
    {
     "name": "stdout",
     "output_type": "stream",
     "text": [
      "The avg of inter is above intra at index: 581\n",
      "The max of inter is above intra at index: 581\n",
      "The avg of inter is above intra at index: 582\n",
      "The max of inter is above intra at index: 582\n",
      "The avg of inter is above intra at index: 583\n",
      "The max of inter is above intra at index: 583\n",
      "The avg of inter is above intra at index: 584\n",
      "The max of inter is above intra at index: 584\n",
      "The avg of inter is above intra at index: 585\n",
      "The max of inter is above intra at index: 585\n",
      "The avg of inter is above intra at index: 586\n",
      "The max of inter is above intra at index: 586\n",
      "The avg of inter is above intra at index: 587\n",
      "The max of inter is above intra at index: 587\n",
      "The avg of inter is above intra at index: 588\n",
      "The max of inter is above intra at index: 588\n",
      "The avg of inter is above intra at index: 589\n",
      "The max of inter is above intra at index: 589\n",
      "The avg of inter is above intra at index: 590\n",
      "The max of inter is above intra at index: 590\n",
      "The avg of inter is above intra at index: 591\n",
      "The max of inter is above intra at index: 591\n",
      "The avg of inter is above intra at index: 592\n",
      "The max of inter is above intra at index: 592\n",
      "The avg of inter is above intra at index: 593\n",
      "The max of inter is above intra at index: 593\n",
      "The avg of inter is above intra at index: 594\n",
      "The max of inter is above intra at index: 594\n",
      "The avg of inter is above intra at index: 595\n",
      "The max of inter is above intra at index: 595\n",
      "The avg of inter is above intra at index: 596\n",
      "The max of inter is above intra at index: 596\n",
      "The avg of inter is above intra at index: 597\n",
      "The max of inter is above intra at index: 597\n",
      "The avg of inter is above intra at index: 598\n",
      "The max of inter is above intra at index: 598\n",
      "The avg of inter is above intra at index: 599\n",
      "The max of inter is above intra at index: 599\n",
      "The avg of inter is above intra at index: 600\n",
      "The max of inter is above intra at index: 600\n",
      "The avg of inter is above intra at index: 601\n",
      "The max of inter is above intra at index: 601\n",
      "The avg of inter is above intra at index: 602\n",
      "The max of inter is above intra at index: 602\n",
      "The avg of inter is above intra at index: 603\n",
      "The max of inter is above intra at index: 603\n",
      "The avg of inter is above intra at index: 604\n",
      "The max of inter is above intra at index: 604\n",
      "The avg of inter is above intra at index: 605\n",
      "The max of inter is above intra at index: 605\n",
      "The avg of inter is above intra at index: 606\n",
      "The max of inter is above intra at index: 606\n",
      "The avg of inter is above intra at index: 607\n",
      "The max of inter is above intra at index: 607\n",
      "The avg of inter is above intra at index: 608\n",
      "The max of inter is above intra at index: 608\n",
      "The avg of inter is above intra at index: 609\n",
      "The max of inter is above intra at index: 609\n",
      "The avg of inter is above intra at index: 614\n",
      "The max of inter is above intra at index: 614\n"
     ]
    }
   ],
   "source": [
    "for indx, (max_value, avg_value) in enumerate(data):\n",
    "    if ((avg_row_inter.values[indx] >= avg_value).sum() == avg_row_inter.values[indx].size).astype(np.int) > 0:\n",
    "        print(f'The avg of inter is above intra at index: {indx}')\n",
    "    if ((max_row_inter.values[indx] >= max_value).sum() == max_row_inter.values[indx].size).astype(np.int) > 0:\n",
    "        print(f'The max of inter is above intra at index: {indx}')"
   ]
  },
  {
   "cell_type": "code",
   "execution_count": null,
   "id": "0b080bf0",
   "metadata": {},
   "outputs": [],
   "source": [
    "for name in chromosome_list:\n",
    "    if path.exists(f'./cmap_files/inter/chr7/cmap_chr7_with_{name}.ccmap'):\n",
    "        ccmap = gmlib.ccmap.load_ccmap(f'./cmap_files/inter/chr7/cmap_chr7_with_{name}.ccmap')\n",
    "        ccmap.make_readable()\n",
    "        \n",
    "        if name == 'X' or name > 7:\n",
    "            plt.imshow(ccmap.matrix, cmap=\"Reds\")\n",
    "        else:\n",
    "            plt.imshow(ccmap.matrix.T, cmap=\"Reds\")\n",
    "            \n",
    "        plt.gcf().set_size_inches(30, 30)\n",
    "        plt.title(f'This is Chr7 interactions with {name}', size=24)\n",
    "        plt.show()\n",
    "        \n",
    "        distribution_sum_row = []\n",
    "        for row in ccmap.matrix:\n",
    "            distribution_sum_row.append(sum(row))\n",
    "\n",
    "        plt.title(\"Distribution read count sums for each row\")\n",
    "        plt.xlabel(\"Read count sums\")\n",
    "        plt.ylabel(\"Prevalence of rows within bin with specific read count sum\")\n",
    "        plt.hist(distribution_sum_row, bins=50)\n",
    "        plt.show()"
   ]
  },
  {
   "cell_type": "code",
   "execution_count": 27,
   "id": "48a4dc56",
   "metadata": {},
   "outputs": [
    {
     "data": {
      "text/plain": [
       "(array([2.391416e+06, 7.639900e+04, 4.050000e+03, 3.940000e+02,\n",
       "        7.800000e+01, 2.400000e+01, 1.100000e+01, 1.000000e+00,\n",
       "        2.000000e+00, 1.000000e+00]),\n",
       " array([ 0. ,  4.1,  8.2, 12.3, 16.4, 20.5, 24.6, 28.7, 32.8, 36.9, 41. ],\n",
       "       dtype=float32),\n",
       " <BarContainer object of 10 artists>)"
      ]
     },
     "execution_count": 27,
     "metadata": {},
     "output_type": "execute_result"
    },
    {
     "data": {
      "image/png": "[encoded data removed]",
      "text/plain": [
       "<Figure size 432x288 with 1 Axes>"
      ]
     },
     "metadata": {
      "needs_background": "light"
     },
     "output_type": "display_data"
    }
   ],
   "source": [
    "plt.hist(A_flatten, bins=10)"
   ]
  }
 ],
 "metadata": {
  "kernelspec": {
   "display_name": "Python 3",
   "language": "python",
   "name": "python3"
  },
  "language_info": {
   "codemirror_mode": {
    "name": "ipython",
    "version": 3
   },
   "file_extension": ".py",
   "mimetype": "text/x-python",
   "name": "python",
   "nbconvert_exporter": "python",
   "pygments_lexer": "ipython3",
   "version": "3.7.10"
  }
 },
 "nbformat": 4,
 "nbformat_minor": 5
}